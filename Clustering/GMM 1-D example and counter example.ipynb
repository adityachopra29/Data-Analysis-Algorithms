{
 "cells": [
  {
   "cell_type": "code",
   "execution_count": 29,
   "metadata": {
    "id": "jQkELhaTl_o2"
   },
   "outputs": [],
   "source": [
    "import numpy as np\n",
    "import pandas as pd\n",
    "from scipy.spatial import distance\n",
    "import matplotlib.pyplot as plt\n",
    "from sklearn.preprocessing import StandardScaler\n",
    "%matplotlib inline"
   ]
  },
  {
   "cell_type": "code",
   "execution_count": 30,
   "metadata": {
    "id": "kGqi2e4ocVnS"
   },
   "outputs": [],
   "source": [
    "X = pd.read_csv(\"scores1.csv\") # Section 4 is same data as scores but shpae is (194,1)"
   ]
  },
  {
   "cell_type": "code",
   "execution_count": 31,
   "metadata": {
    "colab": {
     "base_uri": "https://localhost:8080/"
    },
    "id": "nW7LpaFCc5BB",
    "outputId": "5e733c29-babd-4ba0-99ce-c7f3e460b3a1"
   },
   "outputs": [
    {
     "data": {
      "text/plain": [
       "(194, 1)"
      ]
     },
     "execution_count": 31,
     "metadata": {},
     "output_type": "execute_result"
    }
   ],
   "source": [
    "X.shape"
   ]
  },
  {
   "cell_type": "code",
   "execution_count": 32,
   "metadata": {},
   "outputs": [
    {
     "data": {
      "text/html": [
       "<div>\n",
       "<style scoped>\n",
       "    .dataframe tbody tr th:only-of-type {\n",
       "        vertical-align: middle;\n",
       "    }\n",
       "\n",
       "    .dataframe tbody tr th {\n",
       "        vertical-align: top;\n",
       "    }\n",
       "\n",
       "    .dataframe thead th {\n",
       "        text-align: right;\n",
       "    }\n",
       "</style>\n",
       "<table border=\"1\" class=\"dataframe\">\n",
       "  <thead>\n",
       "    <tr style=\"text-align: right;\">\n",
       "      <th></th>\n",
       "      <th>Score (on 1000)</th>\n",
       "    </tr>\n",
       "  </thead>\n",
       "  <tbody>\n",
       "    <tr>\n",
       "      <th>0</th>\n",
       "      <td>689</td>\n",
       "    </tr>\n",
       "    <tr>\n",
       "      <th>1</th>\n",
       "      <td>522</td>\n",
       "    </tr>\n",
       "    <tr>\n",
       "      <th>2</th>\n",
       "      <td>231</td>\n",
       "    </tr>\n",
       "    <tr>\n",
       "      <th>3</th>\n",
       "      <td>708</td>\n",
       "    </tr>\n",
       "    <tr>\n",
       "      <th>4</th>\n",
       "      <td>534</td>\n",
       "    </tr>\n",
       "    <tr>\n",
       "      <th>...</th>\n",
       "      <td>...</td>\n",
       "    </tr>\n",
       "    <tr>\n",
       "      <th>189</th>\n",
       "      <td>801</td>\n",
       "    </tr>\n",
       "    <tr>\n",
       "      <th>190</th>\n",
       "      <td>531</td>\n",
       "    </tr>\n",
       "    <tr>\n",
       "      <th>191</th>\n",
       "      <td>444</td>\n",
       "    </tr>\n",
       "    <tr>\n",
       "      <th>192</th>\n",
       "      <td>418</td>\n",
       "    </tr>\n",
       "    <tr>\n",
       "      <th>193</th>\n",
       "      <td>585</td>\n",
       "    </tr>\n",
       "  </tbody>\n",
       "</table>\n",
       "<p>194 rows × 1 columns</p>\n",
       "</div>"
      ],
      "text/plain": [
       "     Score (on 1000)\n",
       "0                689\n",
       "1                522\n",
       "2                231\n",
       "3                708\n",
       "4                534\n",
       "..               ...\n",
       "189              801\n",
       "190              531\n",
       "191              444\n",
       "192              418\n",
       "193              585\n",
       "\n",
       "[194 rows x 1 columns]"
      ]
     },
     "execution_count": 32,
     "metadata": {},
     "output_type": "execute_result"
    }
   ],
   "source": [
    "X"
   ]
  },
  {
   "cell_type": "code",
   "execution_count": 33,
   "metadata": {
    "colab": {
     "base_uri": "https://localhost:8080/"
    },
    "id": "lSpJFZNac74i",
    "outputId": "15004ca2-b431-43aa-aaa9-0e1eb18d97f8"
   },
   "outputs": [
    {
     "data": {
      "image/png": "[encoded data removed]",
      "text/plain": [
       "<Figure size 432x288 with 1 Axes>"
      ]
     },
     "metadata": {
      "needs_background": "light"
     },
     "output_type": "display_data"
    }
   ],
   "source": [
    "X.head\n",
    "Y = []\n",
    "for i in range(0,194):\n",
    "    Y.append(0)\n",
    "\n",
    "plt.scatter(X,Y)\n",
    "plt.show()"
   ]
  },
  {
   "cell_type": "code",
   "execution_count": 34,
   "metadata": {
    "colab": {
     "base_uri": "https://localhost:8080/"
    },
    "id": "W2NHJwXYdC4R",
    "outputId": "5a762911-b4fc-4901-93a3-cfd73c4abec6"
   },
   "outputs": [
    {
     "name": "stdout",
     "output_type": "stream",
     "text": [
      "<class 'pandas.core.frame.DataFrame'>\n",
      "RangeIndex: 194 entries, 0 to 193\n",
      "Data columns (total 1 columns):\n",
      " #   Column           Non-Null Count  Dtype\n",
      "---  ------           --------------  -----\n",
      " 0   Score (on 1000)  194 non-null    int64\n",
      "dtypes: int64(1)\n",
      "memory usage: 1.6 KB\n"
     ]
    }
   ],
   "source": [
    "X.info()"
   ]
  },
  {
   "cell_type": "code",
   "execution_count": 37,
   "metadata": {
    "colab": {
     "base_uri": "https://localhost:8080/"
    },
    "id": "k6XV9gP5l_o6",
    "outputId": "b01bbbed-d9aa-4504-ca7d-22ac0cc4206a"
   },
   "outputs": [
    {
     "data": {
      "image/png": "[encoded data removed]",
      "text/plain": [
       "<Figure size 432x288 with 1 Axes>"
      ]
     },
     "metadata": {
      "needs_background": "light"
     },
     "output_type": "display_data"
    }
   ],
   "source": [
    "#Applying GMM:\n",
    "from sklearn.mixture import GaussianMixture as GMM\n",
    "gmm = GMM(n_components=2, random_state = 20022212)\n",
    "gmm.fit(X)\n",
    "label = gmm.predict(X)\n",
    "len(label)\n",
    "plt.scatter(X, Y,c = label)\n",
    "plt.show()\n"
   ]
  },
  {
   "cell_type": "markdown",
   "metadata": {},
   "source": [
    "Label 0-28\n",
    "Label 1-45\n",
    "Label 2-21\n",
    "Label 3-44\n",
    "Label 4-26\n",
    "Label 5-30\n",
    "print"
   ]
  },
  {
   "cell_type": "code",
   "execution_count": 38,
   "metadata": {},
   "outputs": [
    {
     "data": {
      "text/plain": [
       "array([0, 1], dtype=int64)"
      ]
     },
     "execution_count": 38,
     "metadata": {},
     "output_type": "execute_result"
    }
   ],
   "source": [
    "gmm.predict([[600],[782]])"
   ]
  },
  {
   "cell_type": "code",
   "execution_count": 39,
   "metadata": {},
   "outputs": [
    {
     "data": {
      "text/plain": [
       "array([[0.808, 0.192],\n",
       "       [0.139, 0.861]])"
      ]
     },
     "execution_count": 39,
     "metadata": {},
     "output_type": "execute_result"
    }
   ],
   "source": [
    "np.round(gmm.predict_proba([[600],[782]]),3)"
   ]
  },
  {
   "cell_type": "code",
   "execution_count": 40,
   "metadata": {
    "colab": {
     "base_uri": "https://localhost:8080/"
    },
    "id": "hh_2f8kQo3vP",
    "outputId": "9be71abe-85f6-4efa-b70f-ba126e0e07fd"
   },
   "outputs": [
    {
     "name": "stdout",
     "output_type": "stream",
     "text": [
      "[[472.38731771]\n",
      " [797.36420817]]\n",
      "[0.6378353 0.3621647]\n"
     ]
    }
   ],
   "source": [
    "print(gmm.means_)\n",
    "print(gmm.weights_)"
   ]
  },
  {
   "cell_type": "code",
   "execution_count": 41,
   "metadata": {},
   "outputs": [
    {
     "name": "stdout",
     "output_type": "stream",
     "text": [
      "[[[22697.35598936]]\n",
      "\n",
      " [[12869.34928012]]]\n"
     ]
    }
   ],
   "source": [
    "print(gmm.covariances_)"
   ]
  },
  {
   "cell_type": "code",
   "execution_count": 42,
   "metadata": {},
   "outputs": [],
   "source": [
    "from scipy.stats import norm"
   ]
  },
  {
   "cell_type": "code",
   "execution_count": 43,
   "metadata": {},
   "outputs": [],
   "source": [
    "numerator = norm.pdf(600,472.38731771,22697.35598936**0.5)*0.6378353 "
   ]
  },
  {
   "cell_type": "code",
   "execution_count": 44,
   "metadata": {},
   "outputs": [],
   "source": [
    "denominator = norm.pdf(600,797.36420817,12869.34928012**0.5)*0.3621647 + norm.pdf(600,472.38731771,22697.35598936**0.5)*0.6378353"
   ]
  },
  {
   "cell_type": "code",
   "execution_count": 45,
   "metadata": {},
   "outputs": [
    {
     "data": {
      "text/plain": [
       "0.8079782679185876"
      ]
     },
     "execution_count": 45,
     "metadata": {},
     "output_type": "execute_result"
    }
   ],
   "source": [
    "numerator/denominator"
   ]
  },
  {
   "cell_type": "code",
   "execution_count": null,
   "metadata": {},
   "outputs": [],
   "source": []
  },
  {
   "cell_type": "code",
   "execution_count": 46,
   "metadata": {
    "id": "ElfoOgyso3xh"
   },
   "outputs": [],
   "source": [
    "Y = pd.DataFrame([400,200])"
   ]
  },
  {
   "cell_type": "code",
   "execution_count": 47,
   "metadata": {
    "colab": {
     "base_uri": "https://localhost:8080/"
    },
    "id": "k6MSJ32Epb3S",
    "outputId": "7f88904a-123c-49b2-bec9-ae864d3382f5"
   },
   "outputs": [
    {
     "data": {
      "text/plain": [
       "array([0, 0], dtype=int64)"
      ]
     },
     "execution_count": 47,
     "metadata": {},
     "output_type": "execute_result"
    }
   ],
   "source": [
    "gmm.predict(Y)"
   ]
  },
  {
   "cell_type": "code",
   "execution_count": 48,
   "metadata": {
    "colab": {
     "base_uri": "https://localhost:8080/"
    },
    "id": "oMgeQmTgpb5Z",
    "outputId": "b3b0a21d-4dcf-4a75-a891-15452d92c53d"
   },
   "outputs": [
    {
     "data": {
      "text/plain": [
       "array([[9.98169834e-01, 1.83016632e-03],\n",
       "       [9.99996318e-01, 3.68238220e-06]])"
      ]
     },
     "execution_count": 48,
     "metadata": {},
     "output_type": "execute_result"
    }
   ],
   "source": [
    "gmm.predict_proba(Y)"
   ]
  },
  {
   "cell_type": "code",
   "execution_count": 49,
   "metadata": {
    "colab": {
     "base_uri": "https://localhost:8080/"
    },
    "id": "u9n61sIDeIHo",
    "outputId": "f5d7d761-0c46-40f2-86c0-e22792abe4f8"
   },
   "outputs": [
    {
     "data": {
      "text/plain": [
       "array([1, 0, 0, 1, 0, 1, 0, 1, 0, 1, 1, 0, 0, 0, 0, 1, 0, 0, 1, 0, 0, 0,\n",
       "       0, 0, 1, 0, 1, 0, 0, 1, 1, 1, 1, 1, 1, 0, 0, 0, 0, 1, 0, 1, 0, 0,\n",
       "       0, 1, 1, 0, 1, 0, 0, 1, 0, 0, 0, 1, 0, 0, 0, 0, 0, 1, 0, 0, 0, 0,\n",
       "       0, 1, 0, 1, 0, 1, 0, 0, 0, 0, 1, 0, 1, 0, 0, 0, 0, 0, 1, 1, 0, 0,\n",
       "       0, 0, 0, 0, 0, 1, 1, 1, 0, 1, 0, 0, 0, 0, 0, 0, 0, 0, 0, 0, 1, 1,\n",
       "       0, 0, 0, 0, 0, 0, 1, 0, 1, 0, 1, 0, 0, 1, 0, 1, 1, 0, 0, 0, 0, 1,\n",
       "       0, 0, 0, 1, 1, 1, 0, 0, 0, 1, 1, 1, 0, 1, 0, 0, 0, 1, 0, 1, 0, 0,\n",
       "       1, 0, 0, 0, 1, 0, 0, 1, 1, 1, 1, 0, 1, 0, 0, 0, 0, 1, 0, 1, 1, 0,\n",
       "       1, 1, 1, 0, 0, 0, 0, 0, 0, 1, 1, 0, 1, 1, 0, 0, 0, 0], dtype=int64)"
      ]
     },
     "execution_count": 49,
     "metadata": {},
     "output_type": "execute_result"
    }
   ],
   "source": [
    "label"
   ]
  },
  {
   "cell_type": "code",
   "execution_count": 50,
   "metadata": {},
   "outputs": [
    {
     "name": "stderr",
     "output_type": "stream",
     "text": [
      "C:\\Users\\sumit\\anaconda3\\lib\\site-packages\\sklearn\\cluster\\_kmeans.py:881: UserWarning: KMeans is known to have a memory leak on Windows with MKL, when there are less chunks than available threads. You can avoid it by setting the environment variable OMP_NUM_THREADS=1.\n",
      "  warnings.warn(\n"
     ]
    },
    {
     "data": {
      "image/png": "[encoded data removed]",
      "text/plain": [
       "<Figure size 432x288 with 1 Axes>"
      ]
     },
     "metadata": {
      "needs_background": "light"
     },
     "output_type": "display_data"
    }
   ],
   "source": [
    "# Optimum finding \n",
    "from sklearn.mixture import GaussianMixture\n",
    "Sum_bic = []\n",
    "Sum_aic = []\n",
    "K = range(1, 10)\n",
    "for k in K:\n",
    "    gmm = GaussianMixture(n_components=k)\n",
    "    gmm = gmm.fit(X)\n",
    "    Sum_bic.append(gmm.bic(X))\n",
    "    Sum_aic.append(gmm.aic(X))\n",
    "\n",
    "x1 = K\n",
    "y1 = Sum_aic\n",
    "plt.plot(x1, y1, label=\"AIC\")\n",
    "x2 = K\n",
    "y2 = Sum_bic\n",
    "plt.plot(x2, y2, label=\"BIC\")\n",
    "\n",
    "plt.title(\"AIC and BIC v/s k\", fontsize=16, fontweight='bold')\n",
    "plt.xlabel(\"k\")\n",
    "plt.ylabel(\"AIC-BIC\")\n",
    "plt.legend(loc='upper right')\n",
    "plt.show()\n"
   ]
  },
  {
   "cell_type": "markdown",
   "metadata": {},
   "source": [
    "# Counter example to GMM and k-Means"
   ]
  },
  {
   "cell_type": "code",
   "execution_count": 61,
   "metadata": {},
   "outputs": [],
   "source": [
    "import sklearn\n",
    "from sklearn import datasets\n",
    "data = sklearn.datasets.make_moons(n_samples=100, shuffle=True, noise=None, random_state=None)"
   ]
  },
  {
   "cell_type": "code",
   "execution_count": 67,
   "metadata": {},
   "outputs": [],
   "source": [
    "X = np.array([[ 3.27051370e-02,  2.46345416e-01],        [ 1.99794539e+00,  4.35929780e-01],        [ 1.61911895e-01, -4.55349012e-02],\n",
    "        [ 1.98586378e-01, -9.81105305e-02],        [-4.62538290e-01,  8.86599306e-01],\n",
    "        [ 2.81650650e-01, -1.95682551e-01],        [ 6.23489802e-01,  7.81831482e-01],        [-9.60230259e-02,  9.95379113e-01],\n",
    "        [ 1.87131870e+00,  9.28244800e-03],        [ 3.45365054e-01,  9.38468422e-01],        [-9.26916757e-01,  3.75267005e-01],        [-4.04783343e-01,  9.14412623e-01],\n",
    "        [ 1.34536505e+00, -4.38468422e-01],        [ 2.84527587e-01,  9.58667853e-01],        [ 9.49055747e-01,  3.15108218e-01],        [-1.59599895e-01,  9.87181783e-01],\n",
    "        [ 9.67294863e-01,  2.53654584e-01],        [ 1.99179001e+00,  3.72122838e-01],        [ 1.28452759e+00, -4.58667853e-01],        [-5.18392568e-01,  8.55142763e-01],\n",
    "        [ 0.00000000e+00,  5.00000000e-01],        [ 1.00000000e+00,  0.00000000e+00],        [-6.72300890e-01,  7.40277997e-01],        [ 1.71834935e+00, -1.95682551e-01],\n",
    "        [ 1.83808810e+00, -4.55349012e-02],        [-1.00000000e+00,  1.22464680e-16],        [ 7.77479066e-01, -4.74927912e-01],        [-6.23489802e-01,  7.81831482e-01],\n",
    "        [ 9.00968868e-01,  4.33883739e-01],        [ 1.96729486e+00,  2.46345416e-01],        [ 4.04783343e-01,  9.14412623e-01],        [ 1.40478334e+00, -4.14412623e-01],\n",
    "        [ 9.67948422e-01, -4.99486216e-01],        [-8.71318704e-01,  4.90717552e-01],        [-3.20515776e-02,  9.99486216e-01],        [-9.97945393e-01,  6.40702200e-02],\n",
    "        [-7.61445958e-01,  6.48228395e-01],        [-3.45365054e-01,  9.38468422e-01],        [-9.91790014e-01,  1.27877162e-01],        [ 1.59599895e-01,  9.87181783e-01],\n",
    "        [ 7.30832427e-02,  1.24732995e-01],        [ 4.27883340e-01, -3.20172255e-01],        [ 1.67230089e+00, -2.40277997e-01],        [-9.00968868e-01,  4.33883739e-01],\n",
    "        [ 3.27699110e-01, -2.40277997e-01],        [ 2.05460725e-03,  4.35929780e-01],        [ 1.62348980e+00, -2.81831482e-01],        [ 8.01413622e-01,  5.98110530e-01],\n",
    "        [ 9.81559157e-01,  1.91158629e-01],        [ 2.00000000e+00,  5.00000000e-01],        [ 9.90311321e-02,  6.61162609e-02],        [ 1.28681296e-01,  9.28244800e-03],\n",
    "        [ 5.95216657e-01, -4.14412623e-01],        [ 6.72300890e-01,  7.40277997e-01],        [-8.01413622e-01,  5.98110530e-01],        [ 1.92691676e+00,  1.24732995e-01],\n",
    "        [-2.84527587e-01,  9.58667853e-01],        [-2.22520934e-01,  9.74927912e-01],        [ 3.20515776e-02,  9.99486216e-01],        [ 5.09442530e-02,  1.84891782e-01],        [ 1.09602303e+00, -4.95379113e-01],\n",
    "        [-5.72116660e-01,  8.20172255e-01],        [ 8.38088105e-01,  5.45534901e-01],        [ 2.38554042e-01, -1.48228395e-01],        [ 1.03205158e+00, -4.99486216e-01],\n",
    "        [ 1.51839257e+00, -3.55142763e-01],        [ 9.97945393e-01,  6.40702200e-02],        [ 9.26916757e-01,  3.75267005e-01],\n",
    "        [ 9.60230259e-02,  9.95379113e-01],        [ 8.71318704e-01,  4.90717552e-01],        [ 1.84408430e-02,  3.08841371e-01],        [ 7.15472413e-01, -4.58667853e-01],\n",
    "        [ 5.72116660e-01,  8.20172255e-01],        [-9.81559157e-01,  1.91158629e-01],        [ 1.90096887e+00,  6.61162609e-02],        [ 1.94905575e+00,  1.84891782e-01],\n",
    "        [ 9.91790014e-01,  1.27877162e-01],        [ 8.40400105e-01, -4.87181783e-01],        [ 7.61445958e-01,  6.48228395e-01],\n",
    "        [ 1.98155916e+00,  3.08841371e-01],        [ 1.76144596e+00, -1.48228395e-01],        [ 9.03976974e-01, -4.95379113e-01],\n",
    "        [-9.49055747e-01,  3.15108218e-01],        [ 1.80141362e+00, -9.81105305e-02],        [ 4.62538290e-01,  8.86599306e-01],        [ 8.20998618e-03,  3.72122838e-01],\n",
    "        [ 4.81607432e-01, -3.55142763e-01],        [ 1.46253829e+00, -3.86599306e-01],        [ 7.18349350e-01,  6.95682551e-01],        [ 2.22520934e-01,  9.74927912e-01],\n",
    "        [ 3.76510198e-01, -2.81831482e-01],        [ 1.57211666e+00, -3.20172255e-01],        [ 5.18392568e-01,  8.55142763e-01],        [ 6.54634946e-01, -4.38468422e-01],\n",
    "        [-7.18349350e-01,  6.95682551e-01],        [-8.38088105e-01,  5.45534901e-01],        [ 5.37461710e-01, -3.86599306e-01],        [ 1.22252093e+00, -4.74927912e-01],\n",
    "        [-9.67294863e-01,  2.53654584e-01],        [ 1.15959990e+00, -4.87181783e-01]])"
   ]
  },
  {
   "cell_type": "code",
   "execution_count": 68,
   "metadata": {},
   "outputs": [
    {
     "data": {
      "image/png": "[encoded data removed]",
      "text/plain": [
       "<Figure size 288x288 with 1 Axes>"
      ]
     },
     "metadata": {
      "needs_background": "light"
     },
     "output_type": "display_data"
    }
   ],
   "source": [
    "plt.figure(figsize=(4,4))\n",
    "plt.scatter(X[:,0],X[:,1])\n",
    "plt.show()"
   ]
  },
  {
   "cell_type": "code",
   "execution_count": 70,
   "metadata": {},
   "outputs": [
    {
     "data": {
      "image/png": "[encoded data removed]",
      "text/plain": [
       "<Figure size 432x288 with 1 Axes>"
      ]
     },
     "metadata": {
      "needs_background": "light"
     },
     "output_type": "display_data"
    }
   ],
   "source": [
    "from sklearn.cluster import KMeans\n",
    "kmm = KMeans(n_clusters=2)\n",
    "kmm.fit(X)\n",
    "labels = kmm.predict(X)\n",
    "plt.scatter(X[:,0], X[:,1], c=labels, s=40, cmap='viridis')\n",
    "plt.show()"
   ]
  },
  {
   "cell_type": "code",
   "execution_count": 71,
   "metadata": {},
   "outputs": [
    {
     "data": {
      "image/png": "[encoded data removed]",
      "text/plain": [
       "<Figure size 432x288 with 1 Axes>"
      ]
     },
     "metadata": {
      "needs_background": "light"
     },
     "output_type": "display_data"
    }
   ],
   "source": [
    "from sklearn.mixture import GaussianMixture\n",
    "gmm = GaussianMixture(n_components=2)\n",
    "gmm.fit(X)\n",
    "labels = gmm.predict(X)\n",
    "plt.scatter(X[:,0], X[:,1], c=labels, cmap='viridis')\n",
    "plt.show()"
   ]
  },
  {
   "cell_type": "code",
   "execution_count": null,
   "metadata": {},
   "outputs": [],
   "source": []
  }
 ],
 "metadata": {
  "colab": {
   "collapsed_sections": [],
   "name": "Section4.ipynb",
   "provenance": []
  },
  "kernelspec": {
   "display_name": "Python 3",
   "language": "python",
   "name": "python3"
  },
  "language_info": {
   "codemirror_mode": {
    "name": "ipython",
    "version": 3
   },
   "file_extension": ".py",
   "mimetype": "text/x-python",
   "name": "python",
   "nbconvert_exporter": "python",
   "pygments_lexer": "ipython3",
   "version": "3.8.8"
  }
 },
 "nbformat": 4,
 "nbformat_minor": 1
}
