{
 "cells": [
  {
   "cell_type": "code",
   "execution_count": 26,
   "metadata": {
    "id": "m5IFROMxvI1e"
   },
   "outputs": [],
   "source": [
    "import numpy as np\n",
    "import pandas as pd\n",
    "import matplotlib.pyplot as plt\n",
    "import seaborn as sns"
   ]
  },
  {
   "cell_type": "code",
   "execution_count": 27,
   "metadata": {
    "id": "hC2bC52vvhvB"
   },
   "outputs": [],
   "source": [
    "rawdata = pd.read_csv('Baseball Salaries.csv')"
   ]
  },
  {
   "cell_type": "code",
   "execution_count": 28,
   "metadata": {
    "colab": {
     "base_uri": "https://localhost:8080/",
     "height": 363
    },
    "id": "C6MGC3BRvr2Q",
    "outputId": "1ded0856-96b9-4913-b306-99c7fcd7db53"
   },
   "outputs": [
    {
     "data": {
      "text/html": [
       "<div>\n",
       "<style scoped>\n",
       "    .dataframe tbody tr th:only-of-type {\n",
       "        vertical-align: middle;\n",
       "    }\n",
       "\n",
       "    .dataframe tbody tr th {\n",
       "        vertical-align: top;\n",
       "    }\n",
       "\n",
       "    .dataframe thead th {\n",
       "        text-align: right;\n",
       "    }\n",
       "</style>\n",
       "<table border=\"1\" class=\"dataframe\">\n",
       "  <thead>\n",
       "    <tr style=\"text-align: right;\">\n",
       "      <th></th>\n",
       "      <th>Player</th>\n",
       "      <th>Team</th>\n",
       "      <th>Position</th>\n",
       "      <th>Pitcher</th>\n",
       "      <th>League</th>\n",
       "      <th>Division</th>\n",
       "      <th>Yankees</th>\n",
       "      <th>Playoff Team 2011</th>\n",
       "      <th>World Series Team 2011</th>\n",
       "      <th>Salary</th>\n",
       "    </tr>\n",
       "  </thead>\n",
       "  <tbody>\n",
       "    <tr>\n",
       "      <th>0</th>\n",
       "      <td>A.J. Burnett</td>\n",
       "      <td>New York Yankees</td>\n",
       "      <td>Pitcher</td>\n",
       "      <td>Yes</td>\n",
       "      <td>American</td>\n",
       "      <td>American East</td>\n",
       "      <td>Yes</td>\n",
       "      <td>Yes</td>\n",
       "      <td>No</td>\n",
       "      <td>16500000</td>\n",
       "    </tr>\n",
       "    <tr>\n",
       "      <th>1</th>\n",
       "      <td>A.J. Ellis</td>\n",
       "      <td>Los Angeles Dodgers</td>\n",
       "      <td>Catcher</td>\n",
       "      <td>No</td>\n",
       "      <td>National</td>\n",
       "      <td>National West</td>\n",
       "      <td>No</td>\n",
       "      <td>No</td>\n",
       "      <td>No</td>\n",
       "      <td>421000</td>\n",
       "    </tr>\n",
       "    <tr>\n",
       "      <th>2</th>\n",
       "      <td>A.J. Pierzynski</td>\n",
       "      <td>Chicago White Sox</td>\n",
       "      <td>Catcher</td>\n",
       "      <td>No</td>\n",
       "      <td>American</td>\n",
       "      <td>American Central</td>\n",
       "      <td>No</td>\n",
       "      <td>No</td>\n",
       "      <td>No</td>\n",
       "      <td>2000000</td>\n",
       "    </tr>\n",
       "    <tr>\n",
       "      <th>3</th>\n",
       "      <td>Aaron Cook</td>\n",
       "      <td>Colorado Rockies</td>\n",
       "      <td>Pitcher</td>\n",
       "      <td>Yes</td>\n",
       "      <td>National</td>\n",
       "      <td>National West</td>\n",
       "      <td>No</td>\n",
       "      <td>No</td>\n",
       "      <td>No</td>\n",
       "      <td>9875000</td>\n",
       "    </tr>\n",
       "    <tr>\n",
       "      <th>4</th>\n",
       "      <td>Aaron Crow</td>\n",
       "      <td>Kansas City Royals</td>\n",
       "      <td>Pitcher</td>\n",
       "      <td>Yes</td>\n",
       "      <td>American</td>\n",
       "      <td>American Central</td>\n",
       "      <td>No</td>\n",
       "      <td>No</td>\n",
       "      <td>No</td>\n",
       "      <td>1400000</td>\n",
       "    </tr>\n",
       "    <tr>\n",
       "      <th>5</th>\n",
       "      <td>Aaron Harang</td>\n",
       "      <td>San Diego Padres</td>\n",
       "      <td>Pitcher</td>\n",
       "      <td>Yes</td>\n",
       "      <td>National</td>\n",
       "      <td>National West</td>\n",
       "      <td>No</td>\n",
       "      <td>No</td>\n",
       "      <td>No</td>\n",
       "      <td>3500000</td>\n",
       "    </tr>\n",
       "    <tr>\n",
       "      <th>6</th>\n",
       "      <td>Aaron Heilman</td>\n",
       "      <td>Arizona Diamondbacks</td>\n",
       "      <td>Pitcher</td>\n",
       "      <td>Yes</td>\n",
       "      <td>National</td>\n",
       "      <td>National West</td>\n",
       "      <td>No</td>\n",
       "      <td>Yes</td>\n",
       "      <td>No</td>\n",
       "      <td>2000000</td>\n",
       "    </tr>\n",
       "    <tr>\n",
       "      <th>7</th>\n",
       "      <td>Aaron Hill</td>\n",
       "      <td>Toronto Blue Jays</td>\n",
       "      <td>Second Baseman</td>\n",
       "      <td>No</td>\n",
       "      <td>American</td>\n",
       "      <td>American East</td>\n",
       "      <td>No</td>\n",
       "      <td>No</td>\n",
       "      <td>No</td>\n",
       "      <td>5000000</td>\n",
       "    </tr>\n",
       "    <tr>\n",
       "      <th>8</th>\n",
       "      <td>Aaron Laffey</td>\n",
       "      <td>Seattle Mariners</td>\n",
       "      <td>Pitcher</td>\n",
       "      <td>Yes</td>\n",
       "      <td>American</td>\n",
       "      <td>American West</td>\n",
       "      <td>No</td>\n",
       "      <td>No</td>\n",
       "      <td>No</td>\n",
       "      <td>431600</td>\n",
       "    </tr>\n",
       "    <tr>\n",
       "      <th>9</th>\n",
       "      <td>Aaron Miles</td>\n",
       "      <td>Los Angeles Dodgers</td>\n",
       "      <td>Second Baseman</td>\n",
       "      <td>No</td>\n",
       "      <td>National</td>\n",
       "      <td>National West</td>\n",
       "      <td>No</td>\n",
       "      <td>No</td>\n",
       "      <td>No</td>\n",
       "      <td>500000</td>\n",
       "    </tr>\n",
       "  </tbody>\n",
       "</table>\n",
       "</div>"
      ],
      "text/plain": [
       "            Player                  Team        Position Pitcher    League  \\\n",
       "0     A.J. Burnett      New York Yankees         Pitcher     Yes  American   \n",
       "1       A.J. Ellis   Los Angeles Dodgers         Catcher      No  National   \n",
       "2  A.J. Pierzynski     Chicago White Sox         Catcher      No  American   \n",
       "3       Aaron Cook      Colorado Rockies         Pitcher     Yes  National   \n",
       "4       Aaron Crow    Kansas City Royals         Pitcher     Yes  American   \n",
       "5     Aaron Harang      San Diego Padres         Pitcher     Yes  National   \n",
       "6    Aaron Heilman  Arizona Diamondbacks         Pitcher     Yes  National   \n",
       "7       Aaron Hill     Toronto Blue Jays  Second Baseman      No  American   \n",
       "8     Aaron Laffey      Seattle Mariners         Pitcher     Yes  American   \n",
       "9      Aaron Miles   Los Angeles Dodgers  Second Baseman      No  National   \n",
       "\n",
       "           Division Yankees Playoff Team 2011 World Series Team 2011    Salary  \n",
       "0     American East     Yes               Yes                     No  16500000  \n",
       "1     National West      No                No                     No    421000  \n",
       "2  American Central      No                No                     No   2000000  \n",
       "3     National West      No                No                     No   9875000  \n",
       "4  American Central      No                No                     No   1400000  \n",
       "5     National West      No                No                     No   3500000  \n",
       "6     National West      No               Yes                     No   2000000  \n",
       "7     American East      No                No                     No   5000000  \n",
       "8     American West      No                No                     No    431600  \n",
       "9     National West      No                No                     No    500000  "
      ]
     },
     "execution_count": 28,
     "metadata": {},
     "output_type": "execute_result"
    }
   ],
   "source": [
    "rawdata.head(10)"
   ]
  },
  {
   "cell_type": "code",
   "execution_count": 29,
   "metadata": {
    "colab": {
     "base_uri": "https://localhost:8080/"
    },
    "id": "x96mvDEn5jl9",
    "outputId": "696032cc-98b2-4fd1-e785-75e5a4cf2b4f"
   },
   "outputs": [
    {
     "data": {
      "text/plain": [
       "(843, 10)"
      ]
     },
     "execution_count": 29,
     "metadata": {},
     "output_type": "execute_result"
    }
   ],
   "source": [
    "rawdata.shape"
   ]
  },
  {
   "cell_type": "code",
   "execution_count": 30,
   "metadata": {
    "colab": {
     "base_uri": "https://localhost:8080/"
    },
    "id": "MMVbWHQs5nnl",
    "outputId": "1ab6cec2-0794-4a27-d8c6-f328e1fbf6f3"
   },
   "outputs": [
    {
     "name": "stdout",
     "output_type": "stream",
     "text": [
      "<class 'pandas.core.frame.DataFrame'>\n",
      "RangeIndex: 843 entries, 0 to 842\n",
      "Data columns (total 10 columns):\n",
      " #   Column                  Non-Null Count  Dtype \n",
      "---  ------                  --------------  ----- \n",
      " 0   Player                  843 non-null    object\n",
      " 1   Team                    843 non-null    object\n",
      " 2   Position                843 non-null    object\n",
      " 3   Pitcher                 843 non-null    object\n",
      " 4   League                  843 non-null    object\n",
      " 5   Division                843 non-null    object\n",
      " 6   Yankees                 843 non-null    object\n",
      " 7   Playoff Team 2011       843 non-null    object\n",
      " 8   World Series Team 2011  843 non-null    object\n",
      " 9   Salary                  843 non-null    int64 \n",
      "dtypes: int64(1), object(9)\n",
      "memory usage: 66.0+ KB\n"
     ]
    }
   ],
   "source": [
    "rawdata.info()"
   ]
  },
  {
   "cell_type": "code",
   "execution_count": 31,
   "metadata": {},
   "outputs": [
    {
     "name": "stdout",
     "output_type": "stream",
     "text": [
      "Mean salary: 3305054.674970344\n",
      "Variance of salary: 20563887478832.75\n",
      "Standard Deviation of salary: 4534742.272591989\n",
      "Median salary: 1175000.0\n"
     ]
    },
    {
     "data": {
      "image/png": "[encoded data removed]",
      "text/plain": [
       "<Figure size 640x480 with 1 Axes>"
      ]
     },
     "metadata": {},
     "output_type": "display_data"
    }
   ],
   "source": [
    "mean_salary = rawdata[\"Salary\"].mean()\n",
    "variance_salary = rawdata[\"Salary\"].var()\n",
    "stdev_salary = variance_salary**0.5\n",
    "median_salary = rawdata[\"Salary\"].median()\n",
    "\n",
    "print(\"Mean salary:\", mean_salary)\n",
    "print(\"Variance of salary:\", variance_salary)\n",
    "print(\"Standard Deviation of salary:\", stdev_salary)\n",
    "print(\"Median salary:\", median_salary)\n",
    "\n",
    "# Plot the histogram\n",
    "plt.hist(rawdata[\"Salary\"], bins=50)\n",
    "plt.xlabel(\"Salary\")\n",
    "plt.ylabel(\"Frequency\")\n",
    "plt.title(\"Distribution of Salaries\")\n",
    "plt.show()"
   ]
  },
  {
   "cell_type": "code",
   "execution_count": 32,
   "metadata": {},
   "outputs": [
    {
     "data": {
      "text/plain": [
       "count    8.430000e+02\n",
       "mean     3.305055e+06\n",
       "std      4.534742e+06\n",
       "min      4.140000e+05\n",
       "25%      4.303250e+05\n",
       "50%      1.175000e+06\n",
       "75%      4.306250e+06\n",
       "max      3.200000e+07\n",
       "Name: Salary, dtype: float64"
      ]
     },
     "execution_count": 32,
     "metadata": {},
     "output_type": "execute_result"
    }
   ],
   "source": [
    "rawdata['Salary'].describe()"
   ]
  },
  {
   "cell_type": "code",
   "execution_count": 33,
   "metadata": {},
   "outputs": [
    {
     "data": {
      "text/plain": [
       "<Axes: ylabel='Salary'>"
      ]
     },
     "execution_count": 33,
     "metadata": {},
     "output_type": "execute_result"
    },
    {
     "data": {
      "image/png": "[encoded data removed]",
      "text/plain": [
       "<Figure size 1527x570 with 1 Axes>"
      ]
     },
     "metadata": {},
     "output_type": "display_data"
    }
   ],
   "source": [
    "sns.set_style('whitegrid')\n",
    "bp = sns.boxplot(y = rawdata.Salary, showmeans = True)\n",
    "#bp = sns.boxplot(y = rawdata.Salary, x = rawdata.Position, showmeans = True)\n",
    "#bp = sns.boxplot(y = rawdata.Salary, x = rawdata.Pitcher, showmeans = True)\n",
    "#bp = sns.boxplot(y = rawdata.Salary, x = rawdata.Position,hue=rawdata.Yankees)\n",
    "bp.figure.set_figwidth(15.27)\n",
    "bp.figure.set_figheight(5.7)\n",
    "bp"
   ]
  },
  {
   "cell_type": "code",
   "execution_count": 34,
   "metadata": {
    "colab": {
     "base_uri": "https://localhost:8080/",
     "height": 400
    },
    "id": "WYSgU2VQvslV",
    "outputId": "fdb4d07b-0233-472c-a327-9cf5bea8b23b"
   },
   "outputs": [
    {
     "data": {
      "text/plain": [
       "<Axes: xlabel='Salary', ylabel='Position'>"
      ]
     },
     "execution_count": 34,
     "metadata": {},
     "output_type": "execute_result"
    },
    {
     "data": {
      "image/png": "[encoded data removed]",
      "text/plain": [
       "<Figure size 1527x570 with 1 Axes>"
      ]
     },
     "metadata": {},
     "output_type": "display_data"
    }
   ],
   "source": [
    "sns.set_style('whitegrid')\n",
    "#bp = sns.boxplot(y = rawdata.Salary, showmeans = True)\n",
    "bp = sns.boxplot(x = rawdata.Salary, y = rawdata.Position, showmeans = True)\n",
    "#bp = sns.boxplot(y = rawdata.Salary, x = rawdata.Pitcher, showmeans = True)\n",
    "#bp = sns.boxplot(y = rawdata.Salary, x = rawdata.Position,hue=rawdata.Yankees)\n",
    "bp.figure.set_figwidth(15.27)\n",
    "bp.figure.set_figheight(5.7)\n",
    "bp"
   ]
  },
  {
   "cell_type": "code",
   "execution_count": null,
   "metadata": {},
   "outputs": [],
   "source": []
  },
  {
   "cell_type": "code",
   "execution_count": 35,
   "metadata": {
    "colab": {
     "base_uri": "https://localhost:8080/"
    },
    "id": "e4mps8LGzOKl",
    "outputId": "8bd2319f-e3fe-48d9-d4d9-1ba322d055eb"
   },
   "outputs": [
    {
     "data": {
      "text/plain": [
       "count    8.430000e+02\n",
       "mean     3.305055e+06\n",
       "std      4.534742e+06\n",
       "min      4.140000e+05\n",
       "25%      4.303250e+05\n",
       "50%      1.175000e+06\n",
       "75%      4.306250e+06\n",
       "max      3.200000e+07\n",
       "Name: Salary, dtype: float64"
      ]
     },
     "execution_count": 35,
     "metadata": {},
     "output_type": "execute_result"
    }
   ],
   "source": [
    "rawdata['Salary'].describe()"
   ]
  },
  {
   "cell_type": "code",
   "execution_count": 36,
   "metadata": {
    "colab": {
     "base_uri": "https://localhost:8080/",
     "height": 300
    },
    "id": "XtcXmrXJf_BP",
    "outputId": "bad509f3-0462-4cba-d33e-484af364f234"
   },
   "outputs": [
    {
     "data": {
      "text/html": [
       "<div>\n",
       "<style scoped>\n",
       "    .dataframe tbody tr th:only-of-type {\n",
       "        vertical-align: middle;\n",
       "    }\n",
       "\n",
       "    .dataframe tbody tr th {\n",
       "        vertical-align: top;\n",
       "    }\n",
       "\n",
       "    .dataframe thead th {\n",
       "        text-align: right;\n",
       "    }\n",
       "</style>\n",
       "<table border=\"1\" class=\"dataframe\">\n",
       "  <thead>\n",
       "    <tr style=\"text-align: right;\">\n",
       "      <th></th>\n",
       "      <th>Salary</th>\n",
       "    </tr>\n",
       "  </thead>\n",
       "  <tbody>\n",
       "    <tr>\n",
       "      <th>count</th>\n",
       "      <td>8.430000e+02</td>\n",
       "    </tr>\n",
       "    <tr>\n",
       "      <th>mean</th>\n",
       "      <td>3.305055e+06</td>\n",
       "    </tr>\n",
       "    <tr>\n",
       "      <th>std</th>\n",
       "      <td>4.534742e+06</td>\n",
       "    </tr>\n",
       "    <tr>\n",
       "      <th>min</th>\n",
       "      <td>4.140000e+05</td>\n",
       "    </tr>\n",
       "    <tr>\n",
       "      <th>25%</th>\n",
       "      <td>4.303250e+05</td>\n",
       "    </tr>\n",
       "    <tr>\n",
       "      <th>50%</th>\n",
       "      <td>1.175000e+06</td>\n",
       "    </tr>\n",
       "    <tr>\n",
       "      <th>75%</th>\n",
       "      <td>4.306250e+06</td>\n",
       "    </tr>\n",
       "    <tr>\n",
       "      <th>max</th>\n",
       "      <td>3.200000e+07</td>\n",
       "    </tr>\n",
       "  </tbody>\n",
       "</table>\n",
       "</div>"
      ],
      "text/plain": [
       "             Salary\n",
       "count  8.430000e+02\n",
       "mean   3.305055e+06\n",
       "std    4.534742e+06\n",
       "min    4.140000e+05\n",
       "25%    4.303250e+05\n",
       "50%    1.175000e+06\n",
       "75%    4.306250e+06\n",
       "max    3.200000e+07"
      ]
     },
     "execution_count": 36,
     "metadata": {},
     "output_type": "execute_result"
    }
   ],
   "source": [
    "rawdata.describe()"
   ]
  },
  {
   "cell_type": "markdown",
   "metadata": {
    "id": "GeC620YTgB0Q"
   },
   "source": [
    "# Anscombe's Quartet"
   ]
  },
  {
   "cell_type": "markdown",
   "metadata": {},
   "source": [
    "Source of below code - https://matplotlib.org/stable/gallery/specialty_plots/anscombe.html"
   ]
  },
  {
   "cell_type": "code",
   "execution_count": 13,
   "metadata": {},
   "outputs": [
    {
     "data": {
      "image/png": "[encoded data removed]",
      "text/plain": [
       "<Figure size 432x432 with 4 Axes>"
      ]
     },
     "metadata": {},
     "output_type": "display_data"
    }
   ],
   "source": [
    "import matplotlib.pyplot as plt\n",
    "import numpy as np\n",
    "\n",
    "x = np.array([10, 8, 13, 9, 11, 14, 6, 4, 12, 7, 5])\n",
    "y1 = np.array([8.04, 6.95, 7.58, 8.81, 8.33, 9.96, 7.24, 4.26, 10.84, 4.82, 5.68])\n",
    "y2 = np.array([9.14, 8.14, 8.74, 8.77, 9.26, 8.10, 6.13, 3.10, 9.13, 7.26, 4.74])\n",
    "y3 = np.array([7.46, 6.77, 12.74, 7.11, 7.81, 8.84, 6.08, 5.39, 8.15, 6.42, 5.73])\n",
    "x4 = np.array([8, 8, 8, 8, 8, 8, 8, 19, 8, 8, 8])\n",
    "y4 = np.array([6.58, 5.76, 7.71, 8.84, 8.47, 7.04, 5.25, 12.50, 5.56, 7.91, 6.89])\n",
    "\n",
    "datasets = {\n",
    "    'I': (x, y1),\n",
    "    'II': (x, y2),\n",
    "    'III': (x, y3),\n",
    "    'IV': (x4, y4)\n",
    "}\n",
    "\n",
    "fig, axs = plt.subplots(2, 2, sharex=True, sharey=True, figsize=(6, 6),\n",
    "                        gridspec_kw={'wspace': 0.08, 'hspace': 0.08})\n",
    "axs[0, 0].set(xlim=(0, 20), ylim=(2, 14))\n",
    "axs[0, 0].set(xticks=(0, 10, 20), yticks=(4, 8, 12))\n",
    "\n",
    "for ax, (label, (x, y)) in zip(axs.flat, datasets.items()):\n",
    "    ax.text(0.1, 0.9, label, fontsize=20, transform=ax.transAxes, va='top')\n",
    "    ax.tick_params(direction='in', top=True, right=True)\n",
    "    ax.plot(x, y, 'o')\n",
    "\n",
    "    # linear regression\n",
    "    p1, p0 = np.polyfit(x, y, deg=1)  # slope, intercept\n",
    "    ax.axline(xy1=(0, p0), slope=p1, color='r', lw=2)\n",
    "\n",
    "    # add text box for the statistics\n",
    "    stats = (f'$\\\\mu$ = {np.mean(y):.2f}\\n'\n",
    "             f'$\\\\sigma$ = {np.std(y):.2f}\\n'\n",
    "             f'$r$ = {np.corrcoef(x, y)[0][1]:.2f}')\n",
    "    bbox = dict(boxstyle='round', fc='blanchedalmond', ec='orange', alpha=0.5)\n",
    "    ax.text(0.95, 0.07, stats, fontsize=9, bbox=bbox,\n",
    "            transform=ax.transAxes, horizontalalignment='right')\n",
    "\n",
    "plt.show()"
   ]
  },
  {
   "cell_type": "code",
   "execution_count": 14,
   "metadata": {},
   "outputs": [
    {
     "data": {
      "text/plain": [
       "3.747836363636364"
      ]
     },
     "execution_count": 14,
     "metadata": {},
     "output_type": "execute_result"
    }
   ],
   "source": [
    "np.var(y3)"
   ]
  },
  {
   "cell_type": "code",
   "execution_count": 15,
   "metadata": {},
   "outputs": [
    {
     "data": {
      "text/plain": [
       "9.0"
      ]
     },
     "execution_count": 15,
     "metadata": {},
     "output_type": "execute_result"
    }
   ],
   "source": [
    "np.mean(x4)"
   ]
  },
  {
   "cell_type": "code",
   "execution_count": null,
   "metadata": {},
   "outputs": [],
   "source": []
  }
 ],
 "metadata": {
  "colab": {
   "provenance": []
  },
  "kernelspec": {
   "display_name": "Python 3 (ipykernel)",
   "language": "python",
   "name": "python3"
  },
  "language_info": {
   "codemirror_mode": {
    "name": "ipython",
    "version": 3
   },
   "file_extension": ".py",
   "mimetype": "text/x-python",
   "name": "python",
   "nbconvert_exporter": "python",
   "pygments_lexer": "ipython3",
   "version": "3.9.6"
  }
 },
 "nbformat": 4,
 "nbformat_minor": 4
}
