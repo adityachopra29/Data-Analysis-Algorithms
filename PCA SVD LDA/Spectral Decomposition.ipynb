{
 "cells": [
  {
   "cell_type": "markdown",
   "id": "d13f0904",
   "metadata": {},
   "source": [
    "# Decomposing a Matrix"
   ]
  },
  {
   "cell_type": "code",
   "execution_count": 17,
   "id": "94e264f1",
   "metadata": {},
   "outputs": [],
   "source": [
    "import numpy as np\n",
    "A = np.array([[5,4,3],[4,7,2],[3,2,7]])\n",
    "B = np.array([[10,12],[12,17]])\n",
    "C= np.array(([1,1],[2,2]))"
   ]
  },
  {
   "cell_type": "code",
   "execution_count": 18,
   "id": "666635a1",
   "metadata": {},
   "outputs": [],
   "source": [
    "#A = np.array([[5,4,3],[4,7,2],[3,2,6]])"
   ]
  },
  {
   "cell_type": "markdown",
   "id": "17c50ebd-0b3c-4704-b6dc-8407425685bd",
   "metadata": {},
   "source": []
  },
  {
   "cell_type": "code",
   "execution_count": 28,
   "id": "8c10a647-44f6-47d6-870b-1d5a0d575fc3",
   "metadata": {},
   "outputs": [
    {
     "data": {
      "text/plain": [
       "array([[5, 4, 3],\n",
       "       [4, 7, 2],\n",
       "       [3, 2, 7]])"
      ]
     },
     "execution_count": 28,
     "metadata": {},
     "output_type": "execute_result"
    }
   ],
   "source": [
    "A"
   ]
  },
  {
   "cell_type": "code",
   "execution_count": 19,
   "id": "d5a91b2a",
   "metadata": {},
   "outputs": [
    {
     "data": {
      "text/plain": [
       "97.99999999999996"
      ]
     },
     "execution_count": 19,
     "metadata": {},
     "output_type": "execute_result"
    }
   ],
   "source": [
    "np.linalg.det(A)"
   ]
  },
  {
   "cell_type": "code",
   "execution_count": 20,
   "id": "f5c66745",
   "metadata": {},
   "outputs": [],
   "source": [
    "evalA, evec = np.linalg.eig(A)"
   ]
  },
  {
   "cell_type": "code",
   "execution_count": 21,
   "id": "80cced07",
   "metadata": {},
   "outputs": [],
   "source": [
    "#eval, evec = np.linalg.eig(C)"
   ]
  },
  {
   "cell_type": "code",
   "execution_count": 22,
   "id": "9627e2b8",
   "metadata": {},
   "outputs": [
    {
     "data": {
      "text/plain": [
       "array([12.35987465,  1.5611047 ,  5.07902065])"
      ]
     },
     "execution_count": 22,
     "metadata": {},
     "output_type": "execute_result"
    }
   ],
   "source": [
    "evalA"
   ]
  },
  {
   "cell_type": "code",
   "execution_count": 23,
   "id": "14b650c8",
   "metadata": {},
   "outputs": [
    {
     "data": {
      "text/plain": [
       "array([[ 0.56081348,  0.82060437, -0.10998506],\n",
       "       [ 0.62230189, -0.50540654, -0.59774961],\n",
       "       [ 0.54610311, -0.26678212,  0.79410245]])"
      ]
     },
     "execution_count": 23,
     "metadata": {},
     "output_type": "execute_result"
    }
   ],
   "source": [
    "evec"
   ]
  },
  {
   "cell_type": "code",
   "execution_count": 29,
   "id": "666718bd",
   "metadata": {},
   "outputs": [
    {
     "data": {
      "text/plain": [
       "1.0000000000000002"
      ]
     },
     "execution_count": 29,
     "metadata": {},
     "output_type": "execute_result"
    }
   ],
   "source": [
    "evec[2]@evec[2]"
   ]
  },
  {
   "cell_type": "code",
   "execution_count": 30,
   "id": "098e7278",
   "metadata": {},
   "outputs": [
    {
     "data": {
      "text/plain": [
       "1.0000000107743583"
      ]
     },
     "execution_count": 30,
     "metadata": {},
     "output_type": "execute_result"
    }
   ],
   "source": [
    "fev = np.array([-0.10998506,-0.59774961,0.79410245])\n",
    "fev@fev"
   ]
  },
  {
   "cell_type": "code",
   "execution_count": 31,
   "id": "ac0b2ee0",
   "metadata": {},
   "outputs": [],
   "source": [
    "vec1=np.array(evec[:,0])"
   ]
  },
  {
   "cell_type": "code",
   "execution_count": 32,
   "id": "8fd4cc65",
   "metadata": {},
   "outputs": [],
   "source": [
    "vec2 = np.array(evec[:,1])"
   ]
  },
  {
   "cell_type": "code",
   "execution_count": 33,
   "id": "492edeb0",
   "metadata": {},
   "outputs": [],
   "source": [
    "vec3=np.array(evec[:,2])"
   ]
  },
  {
   "cell_type": "code",
   "execution_count": 34,
   "id": "8745cda8",
   "metadata": {},
   "outputs": [
    {
     "data": {
      "text/plain": [
       "array([[3.88732586, 4.31353798, 3.78535971],\n",
       "       [4.31353798, 4.78648062, 4.20039211],\n",
       "       [3.78535971, 4.20039211, 3.68606817]])"
      ]
     },
     "execution_count": 34,
     "metadata": {},
     "output_type": "execute_result"
    }
   ],
   "source": [
    "mat1 = evalA[0]*np.dot(vec1[:,None],vec1[None,:])\n",
    "mat1"
   ]
  },
  {
   "cell_type": "code",
   "execution_count": 35,
   "id": "90e3fb0c",
   "metadata": {},
   "outputs": [
    {
     "data": {
      "text/plain": [
       "array([[ 1.05123468, -0.64745071, -0.34176106],\n",
       "       [-0.64745071,  0.39876197,  0.2104891 ],\n",
       "       [-0.34176106,  0.2104891 ,  0.11110804]])"
      ]
     },
     "execution_count": 35,
     "metadata": {},
     "output_type": "execute_result"
    }
   ],
   "source": [
    "mat2=evalA[1]*np.dot(vec2[:,None],vec2[None,:])\n",
    "mat2"
   ]
  },
  {
   "cell_type": "code",
   "execution_count": 36,
   "id": "665ad5cc",
   "metadata": {},
   "outputs": [
    {
     "data": {
      "text/plain": [
       "array([[ 0.06143946,  0.33391273, -0.44359864],\n",
       "       [ 0.33391273,  1.81475741, -2.41088121],\n",
       "       [-0.44359864, -2.41088121,  3.20282379]])"
      ]
     },
     "execution_count": 36,
     "metadata": {},
     "output_type": "execute_result"
    }
   ],
   "source": [
    "mat3=evalA[2]*np.dot(vec3[:,None],vec3[None,:])\n",
    "mat3"
   ]
  },
  {
   "cell_type": "code",
   "execution_count": 37,
   "id": "c7737c08",
   "metadata": {},
   "outputs": [
    {
     "data": {
      "text/plain": [
       "array([[5., 4., 3.],\n",
       "       [4., 7., 2.],\n",
       "       [3., 2., 7.]])"
      ]
     },
     "execution_count": 37,
     "metadata": {},
     "output_type": "execute_result"
    }
   ],
   "source": [
    "mat1+mat2+mat3"
   ]
  },
  {
   "cell_type": "code",
   "execution_count": null,
   "id": "52d0578b",
   "metadata": {},
   "outputs": [],
   "source": []
  },
  {
   "cell_type": "code",
   "execution_count": null,
   "id": "2a056165",
   "metadata": {},
   "outputs": [],
   "source": []
  }
 ],
 "metadata": {
  "kernelspec": {
   "display_name": "Python 3 (ipykernel)",
   "language": "python",
   "name": "python3"
  },
  "language_info": {
   "codemirror_mode": {
    "name": "ipython",
    "version": 3
   },
   "file_extension": ".py",
   "mimetype": "text/x-python",
   "name": "python",
   "nbconvert_exporter": "python",
   "pygments_lexer": "ipython3",
   "version": "3.11.7"
  }
 },
 "nbformat": 4,
 "nbformat_minor": 5
}
