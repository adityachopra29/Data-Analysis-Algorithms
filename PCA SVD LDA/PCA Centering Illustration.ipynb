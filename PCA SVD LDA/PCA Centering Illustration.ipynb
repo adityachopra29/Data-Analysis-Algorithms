{
 "cells": [
  {
   "cell_type": "code",
   "execution_count": 33,
   "id": "80e2f205",
   "metadata": {},
   "outputs": [],
   "source": [
    "import numpy as np\n",
    "import pandas as pd\n",
    "#Importing standard libraries\n",
    "%matplotlib inline\n",
    "import numpy as np\n",
    "import matplotlib.pyplot as plt\n",
    "import seaborn as sns; sns.set()"
   ]
  },
  {
   "cell_type": "code",
   "execution_count": 34,
   "id": "8f79d247",
   "metadata": {},
   "outputs": [
    {
     "data": {
      "text/plain": [
       "EigResult(eigenvalues=array([3., 1.]), eigenvectors=array([[ 0.70710678, -0.70710678],\n",
       "       [ 0.70710678,  0.70710678]]))"
      ]
     },
     "execution_count": 34,
     "metadata": {},
     "output_type": "execute_result"
    }
   ],
   "source": [
    "Matrix = np.array([[2,1],[1,2]])\n",
    "np.linalg.eig(Matrix)"
   ]
  },
  {
   "cell_type": "code",
   "execution_count": 35,
   "id": "8f5e3f75",
   "metadata": {},
   "outputs": [],
   "source": [
    "data = []\n",
    "for i in range(100):\n",
    "    data.append([100+4*i ,i+200+np.random.uniform(0,40)])"
   ]
  },
  {
   "cell_type": "code",
   "execution_count": 36,
   "id": "f8641c6c",
   "metadata": {},
   "outputs": [],
   "source": [
    "data = pd.DataFrame(data, columns = ['X1','X2'])"
   ]
  },
  {
   "cell_type": "code",
   "execution_count": 37,
   "id": "bd28358e",
   "metadata": {},
   "outputs": [
    {
     "data": {
      "image/png": "[encoded data removed]",
      "text/plain": [
       "<Figure size 640x480 with 1 Axes>"
      ]
     },
     "metadata": {},
     "output_type": "display_data"
    }
   ],
   "source": [
    "data = pd.DataFrame(data, columns = ['X1','X2'])\n",
    "data.plot(kind='scatter',x='X1',y='X2',color='red')\n",
    "ax = plt.gca()\n",
    "ax.set_xlim([0,550])\n",
    "ax.set_ylim([0,550])\n",
    "plt.show()"
   ]
  },
  {
   "cell_type": "code",
   "execution_count": 40,
   "id": "a2e4959e",
   "metadata": {},
   "outputs": [
    {
     "data": {
      "text/html": [
       "<div>\n",
       "<style scoped>\n",
       "    .dataframe tbody tr th:only-of-type {\n",
       "        vertical-align: middle;\n",
       "    }\n",
       "\n",
       "    .dataframe tbody tr th {\n",
       "        vertical-align: top;\n",
       "    }\n",
       "\n",
       "    .dataframe thead th {\n",
       "        text-align: right;\n",
       "    }\n",
       "</style>\n",
       "<table border=\"1\" class=\"dataframe\">\n",
       "  <thead>\n",
       "    <tr style=\"text-align: right;\">\n",
       "      <th></th>\n",
       "      <th>X1</th>\n",
       "      <th>X2</th>\n",
       "    </tr>\n",
       "  </thead>\n",
       "  <tbody>\n",
       "    <tr>\n",
       "      <th>X1</th>\n",
       "      <td>13466.666667</td>\n",
       "      <td>3525.795617</td>\n",
       "    </tr>\n",
       "    <tr>\n",
       "      <th>X2</th>\n",
       "      <td>3525.795617</td>\n",
       "      <td>1032.662058</td>\n",
       "    </tr>\n",
       "  </tbody>\n",
       "</table>\n",
       "</div>"
      ],
      "text/plain": [
       "              X1           X2\n",
       "X1  13466.666667  3525.795617\n",
       "X2   3525.795617  1032.662058"
      ]
     },
     "execution_count": 40,
     "metadata": {},
     "output_type": "execute_result"
    }
   ],
   "source": [
    "SIGMA = data.cov()\n",
    "SIGMA"
   ]
  },
  {
   "cell_type": "code",
   "execution_count": 41,
   "id": "e0b06722",
   "metadata": {},
   "outputs": [],
   "source": [
    "evalue, evectors = np.linalg.eig(SIGMA)"
   ]
  },
  {
   "cell_type": "code",
   "execution_count": 42,
   "id": "4f82bff7",
   "metadata": {},
   "outputs": [
    {
     "data": {
      "text/plain": [
       "array([[ 0.96691583, -0.25509563],\n",
       "       [ 0.25509563,  0.96691583]])"
      ]
     },
     "execution_count": 42,
     "metadata": {},
     "output_type": "execute_result"
    }
   ],
   "source": [
    "evectors"
   ]
  },
  {
   "cell_type": "code",
   "execution_count": 43,
   "id": "ae78663f",
   "metadata": {},
   "outputs": [
    {
     "data": {
      "text/plain": [
       "array([0.96691583, 0.25509563])"
      ]
     },
     "execution_count": 43,
     "metadata": {},
     "output_type": "execute_result"
    }
   ],
   "source": [
    "evector1 = evectors[:,0]\n",
    "evector1"
   ]
  },
  {
   "cell_type": "code",
   "execution_count": 10,
   "id": "0840fa11",
   "metadata": {},
   "outputs": [
    {
     "data": {
      "text/plain": [
       "array([151.63601112, 156.44550505, 157.78717775, 164.68724731,\n",
       "       163.20230749, 166.96374459, 172.77696719, 181.04254299,\n",
       "       186.40694762, 183.33119495, 194.81437259, 195.22987263,\n",
       "       199.32092319, 206.11886462, 203.28222128, 215.41771276,\n",
       "       215.04652094, 223.78216923, 223.56556127, 229.71358608,\n",
       "       229.59528991, 231.75031334, 242.80800969, 247.99467964,\n",
       "       248.3872403 , 257.05502303, 253.96974123, 262.60566177,\n",
       "       264.01851615, 271.52312576, 276.00653038, 278.28588995,\n",
       "       279.64493243, 285.94025891, 290.87775989, 298.07455397,\n",
       "       293.58921766, 302.82293986, 311.01384057, 308.30904621,\n",
       "       310.83798275, 318.47080599, 320.99068675, 323.38068144,\n",
       "       327.78772888, 333.3795795 , 334.83958522, 347.1954322 ,\n",
       "       348.53057157, 349.6682208 , 357.24632543, 360.62327426,\n",
       "       361.59576936, 366.45918507, 373.25986728, 371.76965184,\n",
       "       379.7166812 , 383.1910736 , 385.4431088 , 388.38845813,\n",
       "       396.65933382, 403.18377066, 406.14614085, 407.434136  ,\n",
       "       411.03071555, 414.67235499, 417.87896366, 425.26455332,\n",
       "       425.26815802, 437.31797362, 435.6656761 , 440.18752852,\n",
       "       441.78586349, 454.32445689, 459.23539991, 460.0369802 ,\n",
       "       462.7154857 , 463.53316353, 470.14155261, 475.69188858,\n",
       "       477.60722717, 488.415925  , 487.29259654, 490.84837584,\n",
       "       496.52303273, 503.35520379, 506.29980686, 508.41656495,\n",
       "       511.15791166, 519.51228635, 524.13895326, 526.96036129,\n",
       "       531.86197734, 533.83729966, 532.99533406, 539.26651032,\n",
       "       548.14502742, 548.896689  , 550.3793682 , 560.85764216])"
      ]
     },
     "execution_count": 10,
     "metadata": {},
     "output_type": "execute_result"
    }
   ],
   "source": [
    "oneDdata = np.dot(data,evector1)\n",
    "oneDdata"
   ]
  },
  {
   "cell_type": "code",
   "execution_count": 11,
   "id": "b2850f55",
   "metadata": {},
   "outputs": [
    {
     "data": {
      "text/plain": [
       "array([[147.24326435,  36.23397538],\n",
       "       [151.91343195,  37.38322142],\n",
       "       [153.21623771,  37.70381898],\n",
       "       [159.916419  ,  39.35261565],\n",
       "       [158.47449644,  38.99778389],\n",
       "       [162.12696839,  39.89659294],\n",
       "       [167.77178763,  41.28568359],\n",
       "       [175.79791779,  43.26077293],\n",
       "       [181.00692087,  44.5426169 ],\n",
       "       [178.02026974,  43.80765463],\n",
       "       [189.17079097,  46.55160161],\n",
       "       [189.57425438,  46.65088686],\n",
       "       [193.5467912 ,  47.62845824],\n",
       "       [200.14780293,  49.25285103],\n",
       "       [197.39333437,  48.5750248 ],\n",
       "       [209.17727255,  51.47484455],\n",
       "       [208.81683379,  51.38614692],\n",
       "       [217.2994189 ,  53.47356179],\n",
       "       [217.08908586,  53.42180253],\n",
       "       [223.05900841,  54.89089538],\n",
       "       [222.94413917,  54.86262808],\n",
       "       [225.03673367,  55.37757875],\n",
       "       [235.77409939,  58.01985544],\n",
       "       [240.81051659,  59.25922906],\n",
       "       [241.19170515,  59.35303285],\n",
       "       [249.60839071,  61.42423101],\n",
       "       [246.6124865 ,  60.68699172],\n",
       "       [254.99823287,  62.75057628],\n",
       "       [256.37015825,  63.08818297],\n",
       "       [263.65736666,  64.88143668],\n",
       "       [268.01089145,  65.95276249],\n",
       "       [270.22422019,  66.49742373],\n",
       "       [271.54389255,  66.82217187],\n",
       "       [277.65684958,  68.32646299],\n",
       "       [282.45131599,  69.50629677],\n",
       "       [289.43962599,  71.22599685],\n",
       "       [285.08422549,  70.15420945],\n",
       "       [294.05045579,  72.36064089],\n",
       "       [302.00407413,  74.31788636],\n",
       "       [299.37763502,  73.67156593],\n",
       "       [301.83331074,  74.27586449],\n",
       "       [309.24501857,  76.09975532],\n",
       "       [311.69190085,  76.70188997],\n",
       "       [314.01265973,  77.27298788],\n",
       "       [318.29203933,  78.32606787],\n",
       "       [323.72189951,  79.66226087],\n",
       "       [325.13961029,  80.01113454],\n",
       "       [337.13752048,  82.96360904],\n",
       "       [338.43398217,  83.28264544],\n",
       "       [339.53867482,  83.55449085],\n",
       "       [346.89724917,  85.36530646],\n",
       "       [350.17637111,  86.17224065],\n",
       "       [351.12069397,  86.40462188],\n",
       "       [355.84322129,  87.56675272],\n",
       "       [362.4468944 ,  89.19180043],\n",
       "       [360.99984904,  88.83570804],\n",
       "       [368.71666074,  90.73467956],\n",
       "       [372.09040339,  91.56489823],\n",
       "       [374.27719934,  92.10303022],\n",
       "       [377.13722478,  92.80683213],\n",
       "       [385.1685013 ,  94.78318791],\n",
       "       [391.5039316 ,  96.34222578],\n",
       "       [394.38048482,  97.05009489],\n",
       "       [395.63116801,  97.35786601],\n",
       "       [399.12355818,  98.21728175],\n",
       "       [402.65970289,  99.08746472],\n",
       "       [405.77341924,  99.8536955 ],\n",
       "       [412.9450556 , 101.61850896],\n",
       "       [412.94855588, 101.61937032],\n",
       "       [424.64930011, 104.4987175 ],\n",
       "       [423.04486804, 104.10389501],\n",
       "       [427.43572682, 105.18440806],\n",
       "       [428.98775959, 105.56633601],\n",
       "       [441.16312222, 108.56247842],\n",
       "       [445.93180003, 109.73596609],\n",
       "       [446.71015932, 109.92750661],\n",
       "       [449.31107114, 110.56754522],\n",
       "       [450.10506164, 110.76293231],\n",
       "       [456.52201217, 112.34203087],\n",
       "       [461.91156034, 113.6683038 ],\n",
       "       [463.77141344, 114.12598091],\n",
       "       [474.26699388, 116.7087585 ],\n",
       "       [473.17620714, 116.44033508],\n",
       "       [476.628979  , 117.29000146],\n",
       "       [482.13924664, 118.64598133],\n",
       "       [488.77349639, 120.2785534 ],\n",
       "       [491.63279719, 120.982177  ],\n",
       "       [493.68823487, 121.48798403],\n",
       "       [496.35016745, 122.14303878],\n",
       "       [504.46252409, 124.13934694],\n",
       "       [508.95516099, 125.2449058 ],\n",
       "       [511.69483559, 125.91909149],\n",
       "       [516.45445662, 127.09035044],\n",
       "       [518.37255579, 127.56236088],\n",
       "       [517.55498111, 127.36117014],\n",
       "       [523.64448754, 128.85969048],\n",
       "       [532.26580268, 130.98124437],\n",
       "       [532.99568936, 131.16085663],\n",
       "       [534.4354168 , 131.51514821],\n",
       "       [544.61014542, 134.01896982]])"
      ]
     },
     "execution_count": 11,
     "metadata": {},
     "output_type": "execute_result"
    }
   ],
   "source": [
    "reconstructeddata = np.dot(oneDdata[:,None],evector1[None,:])\n",
    "reconstructeddata"
   ]
  },
  {
   "cell_type": "code",
   "execution_count": 12,
   "id": "48b66c2b",
   "metadata": {},
   "outputs": [
    {
     "data": {
      "image/png": "[encoded data removed]",
      "text/plain": [
       "<Figure size 640x480 with 1 Axes>"
      ]
     },
     "metadata": {},
     "output_type": "display_data"
    }
   ],
   "source": [
    "plt.scatter(data['X1'], data['X2'], color='r', label='originaldata') \n",
    "plt.scatter(reconstructeddata[:,0], reconstructeddata[:,1], color='g', label='reconstruction without centering') \n",
    "  \n",
    "# Naming the x-axis, y-axis and the whole graph \n",
    "plt.xlabel(\"X\") \n",
    "plt.ylabel(\"Y\") \n",
    "#plt.title(\"Sine and Cosine functions\") \n",
    "ax = plt.gca()\n",
    "ax.set_xlim([0, 550])\n",
    "ax.set_ylim([0, 550])\n",
    "# Adding legend, which helps us recognize the curve according to it's color \n",
    "plt.legend() \n",
    "  \n",
    "# To load the display window \n",
    "plt.show() "
   ]
  },
  {
   "cell_type": "markdown",
   "id": "9b602065",
   "metadata": {},
   "source": [
    "# Now, with centering"
   ]
  },
  {
   "cell_type": "code",
   "execution_count": 44,
   "id": "3da1e11e",
   "metadata": {},
   "outputs": [],
   "source": [
    "center = np.average(data,axis = 0)"
   ]
  },
  {
   "cell_type": "code",
   "execution_count": 45,
   "id": "cf8b5f70",
   "metadata": {},
   "outputs": [],
   "source": [
    "datacentered = data - center"
   ]
  },
  {
   "cell_type": "code",
   "execution_count": 46,
   "id": "446f96d0",
   "metadata": {},
   "outputs": [
    {
     "data": {
      "text/html": [
       "<div>\n",
       "<style scoped>\n",
       "    .dataframe tbody tr th:only-of-type {\n",
       "        vertical-align: middle;\n",
       "    }\n",
       "\n",
       "    .dataframe tbody tr th {\n",
       "        vertical-align: top;\n",
       "    }\n",
       "\n",
       "    .dataframe thead th {\n",
       "        text-align: right;\n",
       "    }\n",
       "</style>\n",
       "<table border=\"1\" class=\"dataframe\">\n",
       "  <thead>\n",
       "    <tr style=\"text-align: right;\">\n",
       "      <th></th>\n",
       "      <th>X1</th>\n",
       "      <th>X2</th>\n",
       "    </tr>\n",
       "  </thead>\n",
       "  <tbody>\n",
       "    <tr>\n",
       "      <th>0</th>\n",
       "      <td>-198.0</td>\n",
       "      <td>-59.635926</td>\n",
       "    </tr>\n",
       "    <tr>\n",
       "      <th>1</th>\n",
       "      <td>-194.0</td>\n",
       "      <td>-48.098400</td>\n",
       "    </tr>\n",
       "    <tr>\n",
       "      <th>2</th>\n",
       "      <td>-190.0</td>\n",
       "      <td>-33.716655</td>\n",
       "    </tr>\n",
       "    <tr>\n",
       "      <th>3</th>\n",
       "      <td>-186.0</td>\n",
       "      <td>-41.597101</td>\n",
       "    </tr>\n",
       "    <tr>\n",
       "      <th>4</th>\n",
       "      <td>-182.0</td>\n",
       "      <td>-48.116099</td>\n",
       "    </tr>\n",
       "    <tr>\n",
       "      <th>...</th>\n",
       "      <td>...</td>\n",
       "      <td>...</td>\n",
       "    </tr>\n",
       "    <tr>\n",
       "      <th>95</th>\n",
       "      <td>182.0</td>\n",
       "      <td>55.146740</td>\n",
       "    </tr>\n",
       "    <tr>\n",
       "      <th>96</th>\n",
       "      <td>186.0</td>\n",
       "      <td>54.652821</td>\n",
       "    </tr>\n",
       "    <tr>\n",
       "      <th>97</th>\n",
       "      <td>190.0</td>\n",
       "      <td>45.153232</td>\n",
       "    </tr>\n",
       "    <tr>\n",
       "      <th>98</th>\n",
       "      <td>194.0</td>\n",
       "      <td>60.623883</td>\n",
       "    </tr>\n",
       "    <tr>\n",
       "      <th>99</th>\n",
       "      <td>198.0</td>\n",
       "      <td>46.137107</td>\n",
       "    </tr>\n",
       "  </tbody>\n",
       "</table>\n",
       "<p>100 rows × 2 columns</p>\n",
       "</div>"
      ],
      "text/plain": [
       "       X1         X2\n",
       "0  -198.0 -59.635926\n",
       "1  -194.0 -48.098400\n",
       "2  -190.0 -33.716655\n",
       "3  -186.0 -41.597101\n",
       "4  -182.0 -48.116099\n",
       "..    ...        ...\n",
       "95  182.0  55.146740\n",
       "96  186.0  54.652821\n",
       "97  190.0  45.153232\n",
       "98  194.0  60.623883\n",
       "99  198.0  46.137107\n",
       "\n",
       "[100 rows x 2 columns]"
      ]
     },
     "execution_count": 46,
     "metadata": {},
     "output_type": "execute_result"
    }
   ],
   "source": [
    "datacentered"
   ]
  },
  {
   "cell_type": "code",
   "execution_count": 47,
   "id": "96298ee2",
   "metadata": {},
   "outputs": [
    {
     "data": {
      "image/png": "[encoded data removed]",
      "text/plain": [
       "<Figure size 640x480 with 1 Axes>"
      ]
     },
     "metadata": {},
     "output_type": "display_data"
    }
   ],
   "source": [
    "datacentered = pd.DataFrame(datacentered, columns = ['X1','X2'])\n",
    "datacentered.plot(kind='scatter',x='X1',y='X2',color='red')\n",
    "ax = plt.gca()\n",
    "ax.set_xlim([-250,250])\n",
    "ax.set_ylim([-250,250])\n",
    "plt.show()"
   ]
  },
  {
   "cell_type": "code",
   "execution_count": 48,
   "id": "2be3d63f",
   "metadata": {},
   "outputs": [
    {
     "data": {
      "text/html": [
       "<div>\n",
       "<style scoped>\n",
       "    .dataframe tbody tr th:only-of-type {\n",
       "        vertical-align: middle;\n",
       "    }\n",
       "\n",
       "    .dataframe tbody tr th {\n",
       "        vertical-align: top;\n",
       "    }\n",
       "\n",
       "    .dataframe thead th {\n",
       "        text-align: right;\n",
       "    }\n",
       "</style>\n",
       "<table border=\"1\" class=\"dataframe\">\n",
       "  <thead>\n",
       "    <tr style=\"text-align: right;\">\n",
       "      <th></th>\n",
       "      <th>X1</th>\n",
       "      <th>X2</th>\n",
       "    </tr>\n",
       "  </thead>\n",
       "  <tbody>\n",
       "    <tr>\n",
       "      <th>X1</th>\n",
       "      <td>13466.666667</td>\n",
       "      <td>3525.795617</td>\n",
       "    </tr>\n",
       "    <tr>\n",
       "      <th>X2</th>\n",
       "      <td>3525.795617</td>\n",
       "      <td>1032.662058</td>\n",
       "    </tr>\n",
       "  </tbody>\n",
       "</table>\n",
       "</div>"
      ],
      "text/plain": [
       "              X1           X2\n",
       "X1  13466.666667  3525.795617\n",
       "X2   3525.795617  1032.662058"
      ]
     },
     "execution_count": 48,
     "metadata": {},
     "output_type": "execute_result"
    }
   ],
   "source": [
    "SIGMA = datacentered.cov()\n",
    "SIGMA\n"
   ]
  },
  {
   "cell_type": "code",
   "execution_count": 49,
   "id": "88c6e214",
   "metadata": {},
   "outputs": [],
   "source": [
    "evalue, evectors = np.linalg.eig(SIGMA)"
   ]
  },
  {
   "cell_type": "code",
   "execution_count": 50,
   "id": "65688da8",
   "metadata": {},
   "outputs": [
    {
     "data": {
      "text/plain": [
       "array([[ 0.96691583, -0.25509563],\n",
       "       [ 0.25509563,  0.96691583]])"
      ]
     },
     "execution_count": 50,
     "metadata": {},
     "output_type": "execute_result"
    }
   ],
   "source": [
    "evectors"
   ]
  },
  {
   "cell_type": "code",
   "execution_count": 51,
   "id": "0186c4dc",
   "metadata": {},
   "outputs": [
    {
     "data": {
      "text/plain": [
       "array([0.96691583, 0.25509563])"
      ]
     },
     "execution_count": 51,
     "metadata": {},
     "output_type": "execute_result"
    }
   ],
   "source": [
    "evector1 = evectors[:,0]\n",
    "evector1"
   ]
  },
  {
   "cell_type": "code",
   "execution_count": 52,
   "id": "249386fb",
   "metadata": {},
   "outputs": [
    {
     "data": {
      "text/plain": [
       "array([-206.66219826, -199.85136231, -192.31497864, -190.45758282,\n",
       "       -188.25288733, -187.86110254, -179.0639129 , -176.64198231,\n",
       "       -171.82758768, -168.304208  , -164.4749228 , -161.95046156,\n",
       "       -149.77105931, -146.81782568, -144.479441  , -143.98607539,\n",
       "       -141.42250082, -131.47230952, -133.65124689, -127.69942613,\n",
       "       -118.84435408, -117.84631068, -112.59215678, -107.43304711,\n",
       "       -108.09034263, -105.13659681,  -96.51538552,  -96.90567589,\n",
       "        -90.17019164,  -81.6505942 ,  -83.91745777,  -71.43220128,\n",
       "        -75.37237635,  -69.34115188,  -64.7687436 ,  -59.94512795,\n",
       "        -55.60764577,  -55.59498418,  -43.59113602,  -44.4542649 ,\n",
       "        -35.1557238 ,  -36.42666533,  -32.72003076,  -27.0518918 ,\n",
       "        -26.60391645,  -19.55938294,  -13.7244211 ,   -7.61027588,\n",
       "         -4.8630774 ,   -0.77139549,    3.18111093,    1.79356456,\n",
       "          9.80155937,   16.09681032,   22.83204935,   25.8095456 ,\n",
       "         30.48844292,   34.12685081,   34.00111325,   41.65174403,\n",
       "         42.79591844,   47.42312506,   50.12333901,   60.09599097,\n",
       "         59.4867135 ,   64.97402051,   63.73324167,   68.96162965,\n",
       "         71.58575257,   81.46009763,   83.15497543,   89.92505762,\n",
       "         96.01269598,   93.20029512,   97.83690268,  100.97239241,\n",
       "        105.02221306,  116.59537057,  120.10761538,  124.07605413,\n",
       "        125.2216101 ,  132.05578705,  134.53683736,  136.61747886,\n",
       "        146.03745013,  148.27629618,  151.48778411,  153.4605407 ,\n",
       "        163.90340518,  162.40932473,  167.20732545,  166.4875666 ,\n",
       "        172.42995228,  184.50841642,  183.36155034,  190.04637331,\n",
       "        193.7880399 ,  195.23239968,  203.04655849,  203.21870852])"
      ]
     },
     "execution_count": 52,
     "metadata": {},
     "output_type": "execute_result"
    }
   ],
   "source": [
    "oneDdata = np.dot(datacentered,evector1)\n",
    "oneDdata"
   ]
  },
  {
   "cell_type": "code",
   "execution_count": 53,
   "id": "80e41a1b",
   "metadata": {},
   "outputs": [
    {
     "data": {
      "text/plain": [
       "array([[-1.99824951e+02, -5.27186243e+01],\n",
       "       [-1.93239445e+02, -5.09812098e+01],\n",
       "       [-1.85952397e+02, -4.90587112e+01],\n",
       "       [-1.84156451e+02, -4.85848977e+01],\n",
       "       [-1.82024696e+02, -4.80224895e+01],\n",
       "       [-1.81645873e+02, -4.79225469e+01],\n",
       "       [-1.73139732e+02, -4.56784222e+01],\n",
       "       [-1.70797929e+02, -4.50605983e+01],\n",
       "       [-1.66142814e+02, -4.38324673e+01],\n",
       "       [-1.62736003e+02, -4.29336685e+01],\n",
       "       [-1.59033406e+02, -4.19568346e+01],\n",
       "       [-1.56592465e+02, -4.13128555e+01],\n",
       "       [-1.44816008e+02, -3.82059432e+01],\n",
       "       [-1.41960479e+02, -3.74525862e+01],\n",
       "       [-1.39699458e+02, -3.68560745e+01],\n",
       "       [-1.39222415e+02, -3.67302191e+01],\n",
       "       [-1.36743654e+02, -3.60762624e+01],\n",
       "       [-1.27122657e+02, -3.35380120e+01],\n",
       "       [-1.29229506e+02, -3.40938494e+01],\n",
       "       [-1.23474596e+02, -3.25755660e+01],\n",
       "       [-1.14912487e+02, -3.03166757e+01],\n",
       "       [-1.13947463e+02, -3.00620792e+01],\n",
       "       [-1.08867138e+02, -2.87217675e+01],\n",
       "       [-1.03878714e+02, -2.74057012e+01],\n",
       "       [-1.04514263e+02, -2.75733744e+01],\n",
       "       [-1.01658240e+02, -2.68198867e+01],\n",
       "       [-9.33222539e+01, -2.46206534e+01],\n",
       "       [-9.36996318e+01, -2.47202147e+01],\n",
       "       [-8.71869855e+01, -2.30020221e+01],\n",
       "       [-7.89492519e+01, -2.08287100e+01],\n",
       "       [-8.11411181e+01, -2.14069770e+01],\n",
       "       [-6.90689260e+01, -1.82220426e+01],\n",
       "       [-7.28787437e+01, -1.92271641e+01],\n",
       "       [-6.70470573e+01, -1.76886250e+01],\n",
       "       [-6.26259233e+01, -1.65222237e+01],\n",
       "       [-5.79618930e+01, -1.52917404e+01],\n",
       "       [-5.37679128e+01, -1.41852676e+01],\n",
       "       [-5.37556701e+01, -1.41820377e+01],\n",
       "       [-4.21489594e+01, -1.11199084e+01],\n",
       "       [-4.29835323e+01, -1.13400888e+01],\n",
       "       [-3.39926258e+01, -8.96807162e+00],\n",
       "       [-3.52215193e+01, -9.29228326e+00],\n",
       "       [-3.16375156e+01, -8.34673696e+00],\n",
       "       [-2.61569024e+01, -6.90081947e+00],\n",
       "       [-2.57237479e+01, -6.78654291e+00],\n",
       "       [-1.89122769e+01, -4.98951318e+00],\n",
       "       [-1.32703600e+01, -3.50103989e+00],\n",
       "       [-7.35849620e+00, -1.94134814e+00],\n",
       "       [-4.70218651e+00, -1.24054981e+00],\n",
       "       [-7.45874509e-01, -1.96779621e-01],\n",
       "       [ 3.07586651e+00,  8.11487507e-01],\n",
       "       [ 1.73422596e+00,  4.57530488e-01],\n",
       "       [ 9.47728289e+00,  2.50033499e+00],\n",
       "       [ 1.55642607e+01,  4.10622602e+00],\n",
       "       [ 2.20766699e+01,  5.82435608e+00],\n",
       "       [ 2.49556581e+01,  6.58390238e+00],\n",
       "       [ 2.94797580e+01,  7.77746865e+00],\n",
       "       [ 3.29977922e+01,  8.70561061e+00],\n",
       "       [ 3.28762146e+01,  8.67353551e+00],\n",
       "       [ 4.02737306e+01,  1.06251780e+01],\n",
       "       [ 4.13800509e+01,  1.09170519e+01],\n",
       "       [ 4.58541702e+01,  1.20974321e+01],\n",
       "       [ 4.84650498e+01,  1.27862449e+01],\n",
       "       [ 5.81077649e+01,  1.53302249e+01],\n",
       "       [ 5.75186448e+01,  1.51748008e+01],\n",
       "       [ 6.28244088e+01,  1.65745889e+01],\n",
       "       [ 6.16246801e+01,  1.62580716e+01],\n",
       "       [ 6.66800912e+01,  1.75918106e+01],\n",
       "       [ 6.92173972e+01,  1.82612129e+01],\n",
       "       [ 7.87650577e+01,  2.07801152e+01],\n",
       "       [ 8.04038619e+01,  2.12124711e+01],\n",
       "       [ 8.69499615e+01,  2.29394895e+01],\n",
       "       [ 9.28361954e+01,  2.44924195e+01],\n",
       "       [ 9.01168405e+01,  2.37749883e+01],\n",
       "       [ 9.46000497e+01,  2.49577666e+01],\n",
       "       [ 9.76318044e+01,  2.57576164e+01],\n",
       "       [ 1.01547640e+02,  2.67907079e+01],\n",
       "       [ 1.12737909e+02,  2.97429699e+01],\n",
       "       [ 1.16133954e+02,  3.06389282e+01],\n",
       "       [ 1.19971101e+02,  3.16512596e+01],\n",
       "       [ 1.21078757e+02,  3.19434859e+01],\n",
       "       [ 1.27686831e+02,  3.36868546e+01],\n",
       "       [ 1.30085797e+02,  3.43197597e+01],\n",
       "       [ 1.32097603e+02,  3.48505223e+01],\n",
       "       [ 1.41205922e+02,  3.72535158e+01],\n",
       "       [ 1.43370698e+02,  3.78246357e+01],\n",
       "       [ 1.46475936e+02,  3.86438722e+01],\n",
       "       [ 1.48383426e+02,  3.91471138e+01],\n",
       "       [ 1.58480797e+02,  4.18110429e+01],\n",
       "       [ 1.57036147e+02,  4.14299095e+01],\n",
       "       [ 1.61675409e+02,  4.26538585e+01],\n",
       "       [ 1.60979463e+02,  4.24702512e+01],\n",
       "       [ 1.66725250e+02,  4.39861278e+01],\n",
       "       [ 1.78404108e+02,  4.70672913e+01],\n",
       "       [ 1.77295185e+02,  4.67747308e+01],\n",
       "       [ 1.83758846e+02,  4.84799999e+01],\n",
       "       [ 1.87376723e+02,  4.94344827e+01],\n",
       "       [ 1.88773297e+02,  4.98029326e+01],\n",
       "       [ 1.96328931e+02,  5.17962904e+01],\n",
       "       [ 1.96495386e+02,  5.18402051e+01]])"
      ]
     },
     "execution_count": 53,
     "metadata": {},
     "output_type": "execute_result"
    }
   ],
   "source": [
    "reconstructeddata = np.dot(oneDdata[:,None],evector1[None,:])\n",
    "reconstructeddata"
   ]
  },
  {
   "cell_type": "code",
   "execution_count": 54,
   "id": "e40c9c5b",
   "metadata": {},
   "outputs": [
    {
     "data": {
      "image/png": "[encoded data removed]",
      "text/plain": [
       "<Figure size 640x480 with 1 Axes>"
      ]
     },
     "metadata": {},
     "output_type": "display_data"
    }
   ],
   "source": [
    "plt.scatter(datacentered['X1'], datacentered['X2'], color='r', label='centered data') \n",
    "plt.scatter(reconstructeddata[:,0], reconstructeddata[:,1], color='g', label='reconstruction with centering') \n",
    "  \n",
    "# Naming the x-axis, y-axis and the whole graph \n",
    "plt.xlabel(\"X\") \n",
    "plt.ylabel(\"Y\") \n",
    "#plt.title(\"Sine and Cosine functions\") \n",
    "ax = plt.gca()\n",
    "ax.set_xlim([-250, 250])\n",
    "ax.set_ylim([-250, 250])\n",
    "# Adding legend, which helps us recognize the curve according to it's color \n",
    "plt.legend() \n",
    "  \n",
    "# To load the display window \n",
    "plt.show() "
   ]
  },
  {
   "cell_type": "code",
   "execution_count": 55,
   "id": "d8e79330",
   "metadata": {},
   "outputs": [
    {
     "data": {
      "text/plain": [
       "array([[ 98.1750495 , 215.95199868],\n",
       "       [104.76055458, 217.68941319],\n",
       "       [112.04760324, 219.61191176],\n",
       "       [113.84354866, 220.08572532],\n",
       "       [115.97530362, 220.64813351],\n",
       "       [116.35412654, 220.7480761 ],\n",
       "       [124.86026844, 222.99220076],\n",
       "       [127.20207146, 223.61002468],\n",
       "       [131.85718583, 224.83815572],\n",
       "       [135.26399741, 225.73695449],\n",
       "       [138.96659387, 226.71378842],\n",
       "       [141.40753541, 227.35776746],\n",
       "       [153.18399221, 230.46467979],\n",
       "       [156.03952055, 231.21803679],\n",
       "       [158.30054172, 231.81454852],\n",
       "       [158.77758473, 231.94040393],\n",
       "       [161.25634556, 232.59436061],\n",
       "       [170.87734301, 235.13261095],\n",
       "       [168.77049398, 234.57677355],\n",
       "       [174.52540368, 236.09505703],\n",
       "       [183.087513  , 238.35394724],\n",
       "       [184.05253696, 238.60854376],\n",
       "       [189.13286153, 239.94885547],\n",
       "       [194.12128632, 241.26492182],\n",
       "       [193.48573688, 241.0972486 ],\n",
       "       [196.34176046, 241.85073626],\n",
       "       [204.67774611, 244.04996961],\n",
       "       [204.30036819, 243.95040825],\n",
       "       [210.81301451, 245.66860086],\n",
       "       [219.05074812, 247.84191297],\n",
       "       [216.85888186, 247.26364597],\n",
       "       [228.93107397, 250.44858038],\n",
       "       [225.12125633, 249.44345892],\n",
       "       [230.95294273, 250.98199795],\n",
       "       [235.37407667, 252.14839933],\n",
       "       [240.03810699, 253.37888262],\n",
       "       [244.23208716, 254.48535538],\n",
       "       [244.24432985, 254.4885853 ],\n",
       "       [255.85104063, 257.55071455],\n",
       "       [255.01646766, 257.33053414],\n",
       "       [264.00737422, 259.70255137],\n",
       "       [262.77848074, 259.37833973],\n",
       "       [266.36248437, 260.32388603],\n",
       "       [271.84309765, 261.76980352],\n",
       "       [272.27625211, 261.88408008],\n",
       "       [279.08772305, 263.68110981],\n",
       "       [284.72964001, 265.1695831 ],\n",
       "       [290.6415038 , 266.72927484],\n",
       "       [293.29781349, 267.43007318],\n",
       "       [297.25412549, 268.47384337],\n",
       "       [301.07586651, 269.4821105 ],\n",
       "       [299.73422596, 269.12815348],\n",
       "       [307.47728289, 271.17095798],\n",
       "       [313.56426067, 272.77684901],\n",
       "       [320.07666989, 274.49497907],\n",
       "       [322.95565815, 275.25452536],\n",
       "       [327.47975803, 276.44809164],\n",
       "       [330.9977922 , 277.3762336 ],\n",
       "       [330.87621456, 277.3441585 ],\n",
       "       [338.27373055, 279.295801  ],\n",
       "       [339.38005091, 279.5876749 ],\n",
       "       [343.85417022, 280.7680551 ],\n",
       "       [346.46504983, 281.45686789],\n",
       "       [356.10776485, 284.00084785],\n",
       "       [355.51864483, 283.84542383],\n",
       "       [360.82440883, 285.24521189],\n",
       "       [359.62468012, 284.92869462],\n",
       "       [364.68009122, 286.26243357],\n",
       "       [367.2173972 , 286.93183586],\n",
       "       [376.76505772, 289.45073817],\n",
       "       [378.4038619 , 289.88309409],\n",
       "       [384.94996152, 291.6101125 ],\n",
       "       [390.8361954 , 293.16304246],\n",
       "       [388.1168405 , 292.44561128],\n",
       "       [392.60004974, 293.62838962],\n",
       "       [395.63180439, 294.42823936],\n",
       "       [399.54764007, 295.46133092],\n",
       "       [410.73790925, 298.41359286],\n",
       "       [414.13395434, 299.30955118],\n",
       "       [417.97110058, 300.32188257],\n",
       "       [419.07875678, 300.6141089 ],\n",
       "       [425.68683065, 302.35747759],\n",
       "       [428.08579746, 302.99038269],\n",
       "       [430.09760265, 303.52114525],\n",
       "       [439.20592197, 305.92413879],\n",
       "       [441.37069765, 306.49525864],\n",
       "       [444.47593617, 307.31449519],\n",
       "       [446.38342574, 307.81773678],\n",
       "       [456.48079669, 310.4816659 ],\n",
       "       [455.03614666, 310.10053251],\n",
       "       [459.6754095 , 311.32448154],\n",
       "       [458.97946327, 311.1408742 ],\n",
       "       [464.72525004, 312.65675084],\n",
       "       [476.40410819, 315.73791429],\n",
       "       [475.29518522, 315.44535376],\n",
       "       [481.75884636, 317.15062291],\n",
       "       [485.37672301, 318.10510572],\n",
       "       [486.77329734, 318.47355559],\n",
       "       [494.32893118, 320.46691338],\n",
       "       [494.49538576, 320.5108281 ]])"
      ]
     },
     "execution_count": 55,
     "metadata": {},
     "output_type": "execute_result"
    }
   ],
   "source": [
    "reconstructeddatacenteringadjusted = reconstructeddata + center\n",
    "reconstructeddatacenteringadjusted"
   ]
  },
  {
   "cell_type": "code",
   "execution_count": 56,
   "id": "aad140a8",
   "metadata": {},
   "outputs": [
    {
     "data": {
      "image/png": "[encoded data removed]",
      "text/plain": [
       "<Figure size 640x480 with 1 Axes>"
      ]
     },
     "metadata": {},
     "output_type": "display_data"
    }
   ],
   "source": [
    "plt.scatter(data['X1'], data['X2'], color='r', label='originaldata') \n",
    "plt.scatter(reconstructeddatacenteringadjusted[:,0], reconstructeddatacenteringadjusted[:,1], color='g', label='reconstruction with centering') \n",
    "  \n",
    "# Naming the x-axis, y-axis and the whole graph \n",
    "plt.xlabel(\"X\") \n",
    "plt.ylabel(\"Y\") \n",
    "#plt.title(\"Sine and Cosine functions\") \n",
    "ax = plt.gca()\n",
    "ax.set_xlim([0, 550])\n",
    "ax.set_ylim([0, 550])\n",
    "# Adding legend, which helps us recognize the curve according to it's color \n",
    "plt.legend() \n",
    "  \n",
    "# To load the display window \n",
    "plt.show() "
   ]
  },
  {
   "cell_type": "markdown",
   "id": "f8a8f6e6",
   "metadata": {},
   "source": [
    "# Now with PCA library"
   ]
  },
  {
   "cell_type": "code",
   "execution_count": 26,
   "id": "5d2358ae",
   "metadata": {},
   "outputs": [
    {
     "data": {
      "text/html": [
       "<style>#sk-container-id-1 {color: black;background-color: white;}#sk-container-id-1 pre{padding: 0;}#sk-container-id-1 div.sk-toggleable {background-color: white;}#sk-container-id-1 label.sk-toggleable__label {cursor: pointer;display: block;width: 100%;margin-bottom: 0;padding: 0.3em;box-sizing: border-box;text-align: center;}#sk-container-id-1 label.sk-toggleable__label-arrow:before {content: \"▸\";float: left;margin-right: 0.25em;color: #696969;}#sk-container-id-1 label.sk-toggleable__label-arrow:hover:before {color: black;}#sk-container-id-1 div.sk-estimator:hover label.sk-toggleable__label-arrow:before {color: black;}#sk-container-id-1 div.sk-toggleable__content {max-height: 0;max-width: 0;overflow: hidden;text-align: left;background-color: #f0f8ff;}#sk-container-id-1 div.sk-toggleable__content pre {margin: 0.2em;color: black;border-radius: 0.25em;background-color: #f0f8ff;}#sk-container-id-1 input.sk-toggleable__control:checked~div.sk-toggleable__content {max-height: 200px;max-width: 100%;overflow: auto;}#sk-container-id-1 input.sk-toggleable__control:checked~label.sk-toggleable__label-arrow:before {content: \"▾\";}#sk-container-id-1 div.sk-estimator input.sk-toggleable__control:checked~label.sk-toggleable__label {background-color: #d4ebff;}#sk-container-id-1 div.sk-label input.sk-toggleable__control:checked~label.sk-toggleable__label {background-color: #d4ebff;}#sk-container-id-1 input.sk-hidden--visually {border: 0;clip: rect(1px 1px 1px 1px);clip: rect(1px, 1px, 1px, 1px);height: 1px;margin: -1px;overflow: hidden;padding: 0;position: absolute;width: 1px;}#sk-container-id-1 div.sk-estimator {font-family: monospace;background-color: #f0f8ff;border: 1px dotted black;border-radius: 0.25em;box-sizing: border-box;margin-bottom: 0.5em;}#sk-container-id-1 div.sk-estimator:hover {background-color: #d4ebff;}#sk-container-id-1 div.sk-parallel-item::after {content: \"\";width: 100%;border-bottom: 1px solid gray;flex-grow: 1;}#sk-container-id-1 div.sk-label:hover label.sk-toggleable__label {background-color: #d4ebff;}#sk-container-id-1 div.sk-serial::before {content: \"\";position: absolute;border-left: 1px solid gray;box-sizing: border-box;top: 0;bottom: 0;left: 50%;z-index: 0;}#sk-container-id-1 div.sk-serial {display: flex;flex-direction: column;align-items: center;background-color: white;padding-right: 0.2em;padding-left: 0.2em;position: relative;}#sk-container-id-1 div.sk-item {position: relative;z-index: 1;}#sk-container-id-1 div.sk-parallel {display: flex;align-items: stretch;justify-content: center;background-color: white;position: relative;}#sk-container-id-1 div.sk-item::before, #sk-container-id-1 div.sk-parallel-item::before {content: \"\";position: absolute;border-left: 1px solid gray;box-sizing: border-box;top: 0;bottom: 0;left: 50%;z-index: -1;}#sk-container-id-1 div.sk-parallel-item {display: flex;flex-direction: column;z-index: 1;position: relative;background-color: white;}#sk-container-id-1 div.sk-parallel-item:first-child::after {align-self: flex-end;width: 50%;}#sk-container-id-1 div.sk-parallel-item:last-child::after {align-self: flex-start;width: 50%;}#sk-container-id-1 div.sk-parallel-item:only-child::after {width: 0;}#sk-container-id-1 div.sk-dashed-wrapped {border: 1px dashed gray;margin: 0 0.4em 0.5em 0.4em;box-sizing: border-box;padding-bottom: 0.4em;background-color: white;}#sk-container-id-1 div.sk-label label {font-family: monospace;font-weight: bold;display: inline-block;line-height: 1.2em;}#sk-container-id-1 div.sk-label-container {text-align: center;}#sk-container-id-1 div.sk-container {/* jupyter's `normalize.less` sets `[hidden] { display: none; }` but bootstrap.min.css set `[hidden] { display: none !important; }` so we also need the `!important` here to be able to override the default hidden behavior on the sphinx rendered scikit-learn.org. See: https://github.com/scikit-learn/scikit-learn/issues/21755 */display: inline-block !important;position: relative;}#sk-container-id-1 div.sk-text-repr-fallback {display: none;}</style><div id=\"sk-container-id-1\" class=\"sk-top-container\"><div class=\"sk-text-repr-fallback\"><pre>PCA(n_components=1)</pre><b>In a Jupyter environment, please rerun this cell to show the HTML representation or trust the notebook. <br />On GitHub, the HTML representation is unable to render, please try loading this page with nbviewer.org.</b></div><div class=\"sk-container\" hidden><div class=\"sk-item\"><div class=\"sk-estimator sk-toggleable\"><input class=\"sk-toggleable__control sk-hidden--visually\" id=\"sk-estimator-id-1\" type=\"checkbox\" checked><label for=\"sk-estimator-id-1\" class=\"sk-toggleable__label sk-toggleable__label-arrow\">PCA</label><div class=\"sk-toggleable__content\"><pre>PCA(n_components=1)</pre></div></div></div></div></div>"
      ],
      "text/plain": [
       "PCA(n_components=1)"
      ]
     },
     "execution_count": 26,
     "metadata": {},
     "output_type": "execute_result"
    }
   ],
   "source": [
    "from sklearn.decomposition import PCA\n",
    "pca = PCA(n_components=1) \n",
    "pca.fit(data) "
   ]
  },
  {
   "cell_type": "code",
   "execution_count": 27,
   "id": "6806cb3a",
   "metadata": {},
   "outputs": [],
   "source": [
    "datanew = pca.transform(data)\n",
    "databack = pca.inverse_transform(datanew)"
   ]
  },
  {
   "cell_type": "code",
   "execution_count": 28,
   "id": "abf95d0e",
   "metadata": {},
   "outputs": [
    {
     "data": {
      "image/png": "[encoded data removed]",
      "text/plain": [
       "<Figure size 640x480 with 1 Axes>"
      ]
     },
     "metadata": {},
     "output_type": "display_data"
    }
   ],
   "source": [
    "plt.scatter(data['X1'], data['X2'], color='r', label='originaldata') \n",
    "plt.scatter(databack[:,0], databack[:,1], color='g', label='reconstruction with centering') \n",
    "  \n",
    "# Naming the x-axis, y-axis and the whole graph \n",
    "plt.xlabel(\"X\") \n",
    "plt.ylabel(\"Y\") \n",
    "#plt.title(\"Sine and Cosine functions\") \n",
    "ax = plt.gca()\n",
    "ax.set_xlim([0, 550])\n",
    "ax.set_ylim([0, 550])\n",
    "# Adding legend, which helps us recognize the curve according to it's color \n",
    "plt.legend() \n",
    "  \n",
    "# To load the display window \n",
    "plt.show() "
   ]
  },
  {
   "cell_type": "code",
   "execution_count": null,
   "id": "3c144647",
   "metadata": {},
   "outputs": [],
   "source": []
  },
  {
   "cell_type": "code",
   "execution_count": null,
   "id": "2a056165",
   "metadata": {},
   "outputs": [],
   "source": []
  },
  {
   "cell_type": "markdown",
   "id": "4f3b0c92",
   "metadata": {},
   "source": [
    "To see that PCA line is not the same line as obtained through linear regression"
   ]
  },
  {
   "cell_type": "code",
   "execution_count": 29,
   "id": "d6803a01",
   "metadata": {},
   "outputs": [
    {
     "data": {
      "image/png": "[encoded data removed]",
      "text/plain": [
       "<Figure size 640x480 with 1 Axes>"
      ]
     },
     "metadata": {},
     "output_type": "display_data"
    }
   ],
   "source": [
    "m,b = np.polyfit(data['X1'],data['X2'],1)\n",
    "data.plot(kind='scatter',x='X1',y='X2',color='red')\n",
    "plt.scatter(databack[:, 0], databack[:, 1], alpha=0.8)\n",
    "plt.plot(data['X1'],data['X1']*m + b)\n",
    "plt.show()"
   ]
  },
  {
   "cell_type": "code",
   "execution_count": 30,
   "id": "1f906758",
   "metadata": {},
   "outputs": [
    {
     "data": {
      "text/plain": [
       "0     220.636511\n",
       "1     221.611847\n",
       "2     222.587184\n",
       "3     223.562521\n",
       "4     224.537857\n",
       "         ...    \n",
       "95    313.293494\n",
       "96    314.268831\n",
       "97    315.244168\n",
       "98    316.219504\n",
       "99    317.194841\n",
       "Name: X1, Length: 100, dtype: float64"
      ]
     },
     "execution_count": 30,
     "metadata": {},
     "output_type": "execute_result"
    }
   ],
   "source": [
    "data['X1']*m + b"
   ]
  },
  {
   "cell_type": "code",
   "execution_count": 31,
   "id": "84e72aa1",
   "metadata": {},
   "outputs": [
    {
     "data": {
      "text/plain": [
       "0.2438341675120364"
      ]
     },
     "execution_count": 31,
     "metadata": {},
     "output_type": "execute_result"
    }
   ],
   "source": [
    "m"
   ]
  },
  {
   "cell_type": "code",
   "execution_count": 32,
   "id": "b5f26435",
   "metadata": {},
   "outputs": [
    {
     "data": {
      "text/plain": [
       "0.24608239663638332"
      ]
     },
     "execution_count": 32,
     "metadata": {},
     "output_type": "execute_result"
    }
   ],
   "source": [
    "pca.components_[0][1]/pca.components_[0][0]"
   ]
  },
  {
   "cell_type": "code",
   "execution_count": null,
   "id": "42af6375",
   "metadata": {},
   "outputs": [],
   "source": []
  },
  {
   "cell_type": "code",
   "execution_count": null,
   "id": "e4a05046",
   "metadata": {},
   "outputs": [],
   "source": []
  },
  {
   "cell_type": "markdown",
   "id": "d13f0904",
   "metadata": {},
   "source": [
    "# Decomposing a Matrix"
   ]
  },
  {
   "cell_type": "code",
   "execution_count": 33,
   "id": "94e264f1",
   "metadata": {},
   "outputs": [],
   "source": [
    "import numpy as np\n",
    "A = np.array([[5,4,3],[4,7,2],[3,2,7]])"
   ]
  },
  {
   "cell_type": "code",
   "execution_count": 34,
   "id": "d5a91b2a",
   "metadata": {},
   "outputs": [
    {
     "data": {
      "text/plain": [
       "array([[5, 4, 3],\n",
       "       [4, 7, 2],\n",
       "       [3, 2, 7]])"
      ]
     },
     "execution_count": 34,
     "metadata": {},
     "output_type": "execute_result"
    }
   ],
   "source": [
    "A"
   ]
  },
  {
   "cell_type": "code",
   "execution_count": 35,
   "id": "f5c66745",
   "metadata": {},
   "outputs": [],
   "source": [
    "eval, evec = np.linalg.eig(A)"
   ]
  },
  {
   "cell_type": "code",
   "execution_count": 36,
   "id": "a2903ee8",
   "metadata": {},
   "outputs": [
    {
     "data": {
      "text/plain": [
       "array([12.35987465,  1.5611047 ,  5.07902065])"
      ]
     },
     "execution_count": 36,
     "metadata": {},
     "output_type": "execute_result"
    }
   ],
   "source": [
    "eval"
   ]
  },
  {
   "cell_type": "code",
   "execution_count": 37,
   "id": "f7803520",
   "metadata": {},
   "outputs": [
    {
     "data": {
      "text/plain": [
       "array([[ 0.56081348,  0.82060437, -0.10998506],\n",
       "       [ 0.62230189, -0.50540654, -0.59774961],\n",
       "       [ 0.54610311, -0.26678212,  0.79410245]])"
      ]
     },
     "execution_count": 37,
     "metadata": {},
     "output_type": "execute_result"
    }
   ],
   "source": [
    "evec"
   ]
  },
  {
   "cell_type": "code",
   "execution_count": 38,
   "id": "ac0b2ee0",
   "metadata": {},
   "outputs": [
    {
     "data": {
      "text/plain": [
       "array([0.56081348, 0.62230189, 0.54610311])"
      ]
     },
     "execution_count": 38,
     "metadata": {},
     "output_type": "execute_result"
    }
   ],
   "source": [
    "vec1=np.array(evec[:,0])\n",
    "vec1"
   ]
  },
  {
   "cell_type": "code",
   "execution_count": 39,
   "id": "8fd4cc65",
   "metadata": {},
   "outputs": [],
   "source": [
    "vec2 = np.array(evec[:,1])"
   ]
  },
  {
   "cell_type": "code",
   "execution_count": 40,
   "id": "492edeb0",
   "metadata": {},
   "outputs": [],
   "source": [
    "vec3=np.array(evec[:,2])"
   ]
  },
  {
   "cell_type": "code",
   "execution_count": 41,
   "id": "8745cda8",
   "metadata": {},
   "outputs": [
    {
     "data": {
      "text/plain": [
       "array([[3.88732586, 4.31353798, 3.78535971],\n",
       "       [4.31353798, 4.78648062, 4.20039211],\n",
       "       [3.78535971, 4.20039211, 3.68606817]])"
      ]
     },
     "execution_count": 41,
     "metadata": {},
     "output_type": "execute_result"
    }
   ],
   "source": [
    "mat1 = eval[0]*np.dot(vec1[:,None],vec1[None,:])\n",
    "mat1"
   ]
  },
  {
   "cell_type": "code",
   "execution_count": 42,
   "id": "90e3fb0c",
   "metadata": {},
   "outputs": [
    {
     "data": {
      "text/plain": [
       "array([[ 1.05123468, -0.64745071, -0.34176106],\n",
       "       [-0.64745071,  0.39876197,  0.2104891 ],\n",
       "       [-0.34176106,  0.2104891 ,  0.11110804]])"
      ]
     },
     "execution_count": 42,
     "metadata": {},
     "output_type": "execute_result"
    }
   ],
   "source": [
    "mat2=eval[1]*np.dot(vec2[:,None],vec2[None,:])\n",
    "mat2"
   ]
  },
  {
   "cell_type": "code",
   "execution_count": 43,
   "id": "665ad5cc",
   "metadata": {},
   "outputs": [
    {
     "data": {
      "text/plain": [
       "array([[ 0.06143946,  0.33391273, -0.44359864],\n",
       "       [ 0.33391273,  1.81475741, -2.41088121],\n",
       "       [-0.44359864, -2.41088121,  3.20282379]])"
      ]
     },
     "execution_count": 43,
     "metadata": {},
     "output_type": "execute_result"
    }
   ],
   "source": [
    "mat3=eval[2]*np.dot(vec3[:,None],vec3[None,:])\n",
    "mat3"
   ]
  },
  {
   "cell_type": "code",
   "execution_count": 44,
   "id": "c7737c08",
   "metadata": {},
   "outputs": [
    {
     "data": {
      "text/plain": [
       "array([[5., 4., 3.],\n",
       "       [4., 7., 2.],\n",
       "       [3., 2., 7.]])"
      ]
     },
     "execution_count": 44,
     "metadata": {},
     "output_type": "execute_result"
    }
   ],
   "source": [
    "mat1+mat2+mat3"
   ]
  },
  {
   "cell_type": "code",
   "execution_count": null,
   "id": "3e9576e2",
   "metadata": {},
   "outputs": [],
   "source": []
  },
  {
   "cell_type": "code",
   "execution_count": null,
   "id": "8a354fc1",
   "metadata": {},
   "outputs": [],
   "source": []
  },
  {
   "cell_type": "code",
   "execution_count": null,
   "id": "571dc5a4",
   "metadata": {},
   "outputs": [],
   "source": []
  }
 ],
 "metadata": {
  "kernelspec": {
   "display_name": "Python 3 (ipykernel)",
   "language": "python",
   "name": "python3"
  },
  "language_info": {
   "codemirror_mode": {
    "name": "ipython",
    "version": 3
   },
   "file_extension": ".py",
   "mimetype": "text/x-python",
   "name": "python",
   "nbconvert_exporter": "python",
   "pygments_lexer": "ipython3",
   "version": "3.11.7"
  }
 },
 "nbformat": 4,
 "nbformat_minor": 5
}
