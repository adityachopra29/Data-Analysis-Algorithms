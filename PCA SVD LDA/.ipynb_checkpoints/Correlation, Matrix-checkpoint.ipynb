{
 "cells": [
  {
   "cell_type": "markdown",
   "id": "cf87c371-cdfb-41a8-aa80-95d3461bea4e",
   "metadata": {},
   "source": [
    "first column is numbers from 1 to 10, second is 3*column1 + 5, third is 2*column1^2 + 5, fourth is -4*column1 + 10, fifth is -3*column1^2 +5\n"
   ]
  },
  {
   "cell_type": "code",
   "execution_count": null,
   "id": "22780eb9-1786-47ba-9908-b56cb6731fb9",
   "metadata": {},
   "outputs": [],
   "source": []
  },
  {
   "cell_type": "code",
   "execution_count": 23,
   "id": "23a6b3ab-69e3-488e-bfc9-6485620597b3",
   "metadata": {},
   "outputs": [
    {
     "name": "stdout",
     "output_type": "stream",
     "text": [
      "   column1  column2  column3  column4  column5\n",
      "0        1        8        7        6        2\n",
      "1        2       11       13        2       -7\n",
      "2        3       14       23       -2      -22\n",
      "3        4       17       37       -6      -43\n",
      "4        5       20       55      -10      -70\n",
      "5        6       23       77      -14     -103\n",
      "6        7       26      103      -18     -142\n",
      "7        8       29      133      -22     -187\n",
      "8        9       32      167      -26     -238\n",
      "9       10       35      205      -30     -295\n"
     ]
    }
   ],
   "source": [
    "import pandas as pd\n",
    "import numpy as np\n",
    "\n",
    "# Create a DataFrame\n",
    "df = pd.DataFrame({'column1': np.arange(1, 11)})\n",
    "\n",
    "# Calculate the other columns\n",
    "df['column2'] = 3 * df['column1'] + 5\n",
    "df['column3'] = 2 * df['column1']**2 + 5\n",
    "df['column4'] = -4 * df['column1'] + 10\n",
    "df['column5'] = -3 * df['column1']**2 + 5\n",
    "\n",
    "print(df)\n"
   ]
  },
  {
   "cell_type": "code",
   "execution_count": 8,
   "id": "8afdf56b-c900-4bd7-8277-caf2924f4a64",
   "metadata": {},
   "outputs": [
    {
     "name": "stdout",
     "output_type": "stream",
     "text": [
      "\n",
      "Correlation Matrix:\n",
      "          column1   column2   column3   column4   column5\n",
      "column1  1.000000  1.000000  0.974559 -1.000000 -0.974559\n",
      "column2  1.000000  1.000000  0.974559 -1.000000 -0.974559\n",
      "column3  0.974559  0.974559  1.000000 -0.974559 -1.000000\n",
      "column4 -1.000000 -1.000000 -0.974559  1.000000  0.974559\n",
      "column5 -0.974559 -0.974559 -1.000000  0.974559  1.000000\n",
      "\n",
      "Covariance Matrix:\n",
      "            column1  column2      column3      column4  column5\n",
      "column1    9.166667     27.5   201.666667   -36.666667   -302.5\n",
      "column2   27.500000     82.5   605.000000  -110.000000   -907.5\n",
      "column3  201.666667    605.0  4671.333333  -806.666667  -7007.0\n",
      "column4  -36.666667   -110.0  -806.666667   146.666667   1210.0\n",
      "column5 -302.500000   -907.5 -7007.000000  1210.000000  10510.5\n"
     ]
    }
   ],
   "source": [
    "correlation_matrix = df.corr()\n",
    "print(\"\\nCorrelation Matrix:\")\n",
    "print(correlation_matrix)\n",
    "\n",
    "# Calculate the covariance matrix\n",
    "covariance_matrix = df.cov()\n",
    "print(\"\\nCovariance Matrix:\")\n",
    "print(covariance_matrix)\n"
   ]
  },
  {
   "cell_type": "code",
   "execution_count": 11,
   "id": "f4ea2f5d-1b13-4334-a1b2-09aff19b35dd",
   "metadata": {},
   "outputs": [
    {
     "name": "stdout",
     "output_type": "stream",
     "text": [
      "\n",
      "Correlation Matrix (NumPy):\n",
      "[[ 1.          1.          0.97455863 -1.         -0.97455863]\n",
      " [ 1.          1.          0.97455863 -1.         -0.97455863]\n",
      " [ 0.97455863  0.97455863  1.         -0.97455863 -1.        ]\n",
      " [-1.         -1.         -0.97455863  1.          0.97455863]\n",
      " [-0.97455863 -0.97455863 -1.          0.97455863  1.        ]]\n",
      "\n",
      "Covariance Matrix (NumPy):\n",
      "[[ 9.16666667e+00  2.75000000e+01  2.01666667e+02 -3.66666667e+01\n",
      "  -3.02500000e+02]\n",
      " [ 2.75000000e+01  8.25000000e+01  6.05000000e+02 -1.10000000e+02\n",
      "  -9.07500000e+02]\n",
      " [ 2.01666667e+02  6.05000000e+02  4.67133333e+03 -8.06666667e+02\n",
      "  -7.00700000e+03]\n",
      " [-3.66666667e+01 -1.10000000e+02 -8.06666667e+02  1.46666667e+02\n",
      "   1.21000000e+03]\n",
      " [-3.02500000e+02 -9.07500000e+02 -7.00700000e+03  1.21000000e+03\n",
      "   1.05105000e+04]]\n"
     ]
    }
   ],
   "source": [
    "# Calculate the correlation matrix using NumPy\n",
    "\n",
    "data = np.array(df)\n",
    "\n",
    "correlation_matrix_np = np.corrcoef(data, rowvar=False)\n",
    "print(\"\\nCorrelation Matrix (NumPy):\")\n",
    "print(correlation_matrix_np)\n",
    "\n",
    "# Calculate the covariance matrix using NumPy\n",
    "covariance_matrix_np = np.cov(data, rowvar=False)\n",
    "print(\"\\nCovariance Matrix (NumPy):\")\n",
    "print(covariance_matrix_np)"
   ]
  },
  {
   "cell_type": "code",
   "execution_count": null,
   "id": "34f53fc7-0dd8-4817-aba6-ca15bc1794e2",
   "metadata": {},
   "outputs": [],
   "source": []
  },
  {
   "cell_type": "code",
   "execution_count": 29,
   "id": "34b8e150-68dd-4ed9-8673-36a1dafaedd7",
   "metadata": {},
   "outputs": [
    {
     "data": {
      "text/plain": [
       "array([[ 2,  1,  0],\n",
       "       [ 1,  2,  0],\n",
       "       [ 0,  0, 10]])"
      ]
     },
     "execution_count": 29,
     "metadata": {},
     "output_type": "execute_result"
    }
   ],
   "source": [
    "A = np.array([[2,1,0],[1,2,0],[0,0,10]])\n",
    "A"
   ]
  },
  {
   "cell_type": "code",
   "execution_count": 30,
   "id": "42861cf2-f303-4c59-98d0-3a0a64db7f18",
   "metadata": {},
   "outputs": [
    {
     "data": {
      "text/plain": [
       "EigResult(eigenvalues=array([ 3.,  1., 10.]), eigenvectors=array([[ 0.70710678, -0.70710678,  0.        ],\n",
       "       [ 0.70710678,  0.70710678,  0.        ],\n",
       "       [ 0.        ,  0.        ,  1.        ]]))"
      ]
     },
     "execution_count": 30,
     "metadata": {},
     "output_type": "execute_result"
    }
   ],
   "source": [
    "np.linalg.eig(A)"
   ]
  },
  {
   "cell_type": "code",
   "execution_count": 31,
   "id": "e10fffb8-cf23-435c-913a-b737540ddab9",
   "metadata": {},
   "outputs": [],
   "source": [
    "evalues, evectors = np.linalg.eig(A)"
   ]
  },
  {
   "cell_type": "code",
   "execution_count": 32,
   "id": "9af5c70d-68fc-4523-bf34-330ce6188390",
   "metadata": {},
   "outputs": [
    {
     "data": {
      "text/plain": [
       "array([ 3.,  1., 10.])"
      ]
     },
     "execution_count": 32,
     "metadata": {},
     "output_type": "execute_result"
    }
   ],
   "source": [
    "evalues"
   ]
  },
  {
   "cell_type": "code",
   "execution_count": 33,
   "id": "599dc539-8b3c-4850-a721-1bf3b15efe24",
   "metadata": {},
   "outputs": [
    {
     "data": {
      "text/plain": [
       "array([[ 0.70710678, -0.70710678,  0.        ],\n",
       "       [ 0.70710678,  0.70710678,  0.        ],\n",
       "       [ 0.        ,  0.        ,  1.        ]])"
      ]
     },
     "execution_count": 33,
     "metadata": {},
     "output_type": "execute_result"
    }
   ],
   "source": [
    "evectors"
   ]
  },
  {
   "cell_type": "code",
   "execution_count": null,
   "id": "72c24eed-4ef6-46c2-886e-a03b108a35e9",
   "metadata": {},
   "outputs": [],
   "source": []
  }
 ],
 "metadata": {
  "kernelspec": {
   "display_name": "Python 3 (ipykernel)",
   "language": "python",
   "name": "python3"
  },
  "language_info": {
   "codemirror_mode": {
    "name": "ipython",
    "version": 3
   },
   "file_extension": ".py",
   "mimetype": "text/x-python",
   "name": "python",
   "nbconvert_exporter": "python",
   "pygments_lexer": "ipython3",
   "version": "3.11.7"
  }
 },
 "nbformat": 4,
 "nbformat_minor": 5
}
